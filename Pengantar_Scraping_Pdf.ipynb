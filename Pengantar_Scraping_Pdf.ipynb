{
  "nbformat": 4,
  "nbformat_minor": 0,
  "metadata": {
    "colab": {
      "name": "Pengantar_Scraping_Pdf.ipynb",
      "provenance": []
    },
    "kernelspec": {
      "name": "python3",
      "display_name": "Python 3"
    }
  },
  "cells": [
    {
      "cell_type": "markdown",
      "metadata": {
        "id": "y6N3a6b_w3kV",
        "colab_type": "text"
      },
      "source": [
        "**Mendownload sesajen sebelum *scraping***"
      ]
    },
    {
      "cell_type": "markdown",
      "metadata": {
        "id": "giiDPVbXuc4h",
        "colab_type": "text"
      },
      "source": [
        "Raka Ahmad Suresa - 1706976781"
      ]
    },
    {
      "cell_type": "code",
      "metadata": {
        "id": "AfNdXQzvlW5w",
        "colab_type": "code",
        "outputId": "e5c90952-5e44-4d31-e404-77a1e3eb14e0",
        "colab": {
          "base_uri": "https://localhost:8080/",
          "height": 527
        }
      },
      "source": [
        "from google.colab import drive\n",
        "drive.mount('/gdrive')"
      ],
      "execution_count": 0,
      "outputs": [
        {
          "output_type": "error",
          "ename": "KeyboardInterrupt",
          "evalue": "ignored",
          "traceback": [
            "\u001b[0;31m---------------------------------------------------------------------------\u001b[0m",
            "\u001b[0;31mKeyboardInterrupt\u001b[0m                         Traceback (most recent call last)",
            "\u001b[0;32m/usr/local/lib/python3.6/dist-packages/ipykernel/kernelbase.py\u001b[0m in \u001b[0;36m_input_request\u001b[0;34m(self, prompt, ident, parent, password)\u001b[0m\n\u001b[1;32m    728\u001b[0m             \u001b[0;32mtry\u001b[0m\u001b[0;34m:\u001b[0m\u001b[0;34m\u001b[0m\u001b[0;34m\u001b[0m\u001b[0m\n\u001b[0;32m--> 729\u001b[0;31m                 \u001b[0mident\u001b[0m\u001b[0;34m,\u001b[0m \u001b[0mreply\u001b[0m \u001b[0;34m=\u001b[0m \u001b[0mself\u001b[0m\u001b[0;34m.\u001b[0m\u001b[0msession\u001b[0m\u001b[0;34m.\u001b[0m\u001b[0mrecv\u001b[0m\u001b[0;34m(\u001b[0m\u001b[0mself\u001b[0m\u001b[0;34m.\u001b[0m\u001b[0mstdin_socket\u001b[0m\u001b[0;34m,\u001b[0m \u001b[0;36m0\u001b[0m\u001b[0;34m)\u001b[0m\u001b[0;34m\u001b[0m\u001b[0;34m\u001b[0m\u001b[0m\n\u001b[0m\u001b[1;32m    730\u001b[0m             \u001b[0;32mexcept\u001b[0m \u001b[0mException\u001b[0m\u001b[0;34m:\u001b[0m\u001b[0;34m\u001b[0m\u001b[0;34m\u001b[0m\u001b[0m\n",
            "\u001b[0;32m/usr/local/lib/python3.6/dist-packages/jupyter_client/session.py\u001b[0m in \u001b[0;36mrecv\u001b[0;34m(self, socket, mode, content, copy)\u001b[0m\n\u001b[1;32m    802\u001b[0m         \u001b[0;32mtry\u001b[0m\u001b[0;34m:\u001b[0m\u001b[0;34m\u001b[0m\u001b[0;34m\u001b[0m\u001b[0m\n\u001b[0;32m--> 803\u001b[0;31m             \u001b[0mmsg_list\u001b[0m \u001b[0;34m=\u001b[0m \u001b[0msocket\u001b[0m\u001b[0;34m.\u001b[0m\u001b[0mrecv_multipart\u001b[0m\u001b[0;34m(\u001b[0m\u001b[0mmode\u001b[0m\u001b[0;34m,\u001b[0m \u001b[0mcopy\u001b[0m\u001b[0;34m=\u001b[0m\u001b[0mcopy\u001b[0m\u001b[0;34m)\u001b[0m\u001b[0;34m\u001b[0m\u001b[0;34m\u001b[0m\u001b[0m\n\u001b[0m\u001b[1;32m    804\u001b[0m         \u001b[0;32mexcept\u001b[0m \u001b[0mzmq\u001b[0m\u001b[0;34m.\u001b[0m\u001b[0mZMQError\u001b[0m \u001b[0;32mas\u001b[0m \u001b[0me\u001b[0m\u001b[0;34m:\u001b[0m\u001b[0;34m\u001b[0m\u001b[0;34m\u001b[0m\u001b[0m\n",
            "\u001b[0;32m/usr/local/lib/python3.6/dist-packages/zmq/sugar/socket.py\u001b[0m in \u001b[0;36mrecv_multipart\u001b[0;34m(self, flags, copy, track)\u001b[0m\n\u001b[1;32m    474\u001b[0m         \"\"\"\n\u001b[0;32m--> 475\u001b[0;31m         \u001b[0mparts\u001b[0m \u001b[0;34m=\u001b[0m \u001b[0;34m[\u001b[0m\u001b[0mself\u001b[0m\u001b[0;34m.\u001b[0m\u001b[0mrecv\u001b[0m\u001b[0;34m(\u001b[0m\u001b[0mflags\u001b[0m\u001b[0;34m,\u001b[0m \u001b[0mcopy\u001b[0m\u001b[0;34m=\u001b[0m\u001b[0mcopy\u001b[0m\u001b[0;34m,\u001b[0m \u001b[0mtrack\u001b[0m\u001b[0;34m=\u001b[0m\u001b[0mtrack\u001b[0m\u001b[0;34m)\u001b[0m\u001b[0;34m]\u001b[0m\u001b[0;34m\u001b[0m\u001b[0;34m\u001b[0m\u001b[0m\n\u001b[0m\u001b[1;32m    476\u001b[0m         \u001b[0;31m# have first part already, only loop while more to receive\u001b[0m\u001b[0;34m\u001b[0m\u001b[0;34m\u001b[0m\u001b[0;34m\u001b[0m\u001b[0m\n",
            "\u001b[0;32mzmq/backend/cython/socket.pyx\u001b[0m in \u001b[0;36mzmq.backend.cython.socket.Socket.recv\u001b[0;34m()\u001b[0m\n",
            "\u001b[0;32mzmq/backend/cython/socket.pyx\u001b[0m in \u001b[0;36mzmq.backend.cython.socket.Socket.recv\u001b[0;34m()\u001b[0m\n",
            "\u001b[0;32mzmq/backend/cython/socket.pyx\u001b[0m in \u001b[0;36mzmq.backend.cython.socket._recv_copy\u001b[0;34m()\u001b[0m\n",
            "\u001b[0;32m/usr/local/lib/python3.6/dist-packages/zmq/backend/cython/checkrc.pxd\u001b[0m in \u001b[0;36mzmq.backend.cython.checkrc._check_rc\u001b[0;34m()\u001b[0m\n",
            "\u001b[0;31mKeyboardInterrupt\u001b[0m: ",
            "\nDuring handling of the above exception, another exception occurred:\n",
            "\u001b[0;31mKeyboardInterrupt\u001b[0m                         Traceback (most recent call last)",
            "\u001b[0;32m<ipython-input-1-e5b0420cd036>\u001b[0m in \u001b[0;36m<module>\u001b[0;34m()\u001b[0m\n\u001b[1;32m      1\u001b[0m \u001b[0;32mfrom\u001b[0m \u001b[0mgoogle\u001b[0m\u001b[0;34m.\u001b[0m\u001b[0mcolab\u001b[0m \u001b[0;32mimport\u001b[0m \u001b[0mdrive\u001b[0m\u001b[0;34m\u001b[0m\u001b[0;34m\u001b[0m\u001b[0m\n\u001b[0;32m----> 2\u001b[0;31m \u001b[0mdrive\u001b[0m\u001b[0;34m.\u001b[0m\u001b[0mmount\u001b[0m\u001b[0;34m(\u001b[0m\u001b[0;34m'/gdrive'\u001b[0m\u001b[0;34m)\u001b[0m\u001b[0;34m\u001b[0m\u001b[0;34m\u001b[0m\u001b[0m\n\u001b[0m",
            "\u001b[0;32m/usr/local/lib/python3.6/dist-packages/google/colab/drive.py\u001b[0m in \u001b[0;36mmount\u001b[0;34m(mountpoint, force_remount, timeout_ms, use_metadata_server)\u001b[0m\n\u001b[1;32m    236\u001b[0m       \u001b[0mauth_prompt\u001b[0m \u001b[0;34m=\u001b[0m \u001b[0md\u001b[0m\u001b[0;34m.\u001b[0m\u001b[0mmatch\u001b[0m\u001b[0;34m.\u001b[0m\u001b[0mgroup\u001b[0m\u001b[0;34m(\u001b[0m\u001b[0;36m1\u001b[0m\u001b[0;34m)\u001b[0m \u001b[0;34m+\u001b[0m \u001b[0;34m'\\nEnter your authorization code:\\n'\u001b[0m\u001b[0;34m\u001b[0m\u001b[0;34m\u001b[0m\u001b[0m\n\u001b[1;32m    237\u001b[0m       \u001b[0;32mwith\u001b[0m \u001b[0mopen\u001b[0m\u001b[0;34m(\u001b[0m\u001b[0mfifo\u001b[0m\u001b[0;34m,\u001b[0m \u001b[0;34m'w'\u001b[0m\u001b[0;34m)\u001b[0m \u001b[0;32mas\u001b[0m \u001b[0mfifo_file\u001b[0m\u001b[0;34m:\u001b[0m\u001b[0;34m\u001b[0m\u001b[0;34m\u001b[0m\u001b[0m\n\u001b[0;32m--> 238\u001b[0;31m         \u001b[0mfifo_file\u001b[0m\u001b[0;34m.\u001b[0m\u001b[0mwrite\u001b[0m\u001b[0;34m(\u001b[0m\u001b[0m_getpass\u001b[0m\u001b[0;34m.\u001b[0m\u001b[0mgetpass\u001b[0m\u001b[0;34m(\u001b[0m\u001b[0mauth_prompt\u001b[0m\u001b[0;34m)\u001b[0m \u001b[0;34m+\u001b[0m \u001b[0;34m'\\n'\u001b[0m\u001b[0;34m)\u001b[0m\u001b[0;34m\u001b[0m\u001b[0;34m\u001b[0m\u001b[0m\n\u001b[0m\u001b[1;32m    239\u001b[0m       \u001b[0mwrote_to_fifo\u001b[0m \u001b[0;34m=\u001b[0m \u001b[0;32mTrue\u001b[0m\u001b[0;34m\u001b[0m\u001b[0;34m\u001b[0m\u001b[0m\n\u001b[1;32m    240\u001b[0m   \u001b[0;32mif\u001b[0m \u001b[0;32mnot\u001b[0m \u001b[0mwrote_to_fifo\u001b[0m\u001b[0;34m:\u001b[0m\u001b[0;34m\u001b[0m\u001b[0;34m\u001b[0m\u001b[0m\n",
            "\u001b[0;32m/usr/local/lib/python3.6/dist-packages/ipykernel/kernelbase.py\u001b[0m in \u001b[0;36mgetpass\u001b[0;34m(self, prompt, stream)\u001b[0m\n\u001b[1;32m    685\u001b[0m             \u001b[0mself\u001b[0m\u001b[0;34m.\u001b[0m\u001b[0m_parent_ident\u001b[0m\u001b[0;34m,\u001b[0m\u001b[0;34m\u001b[0m\u001b[0;34m\u001b[0m\u001b[0m\n\u001b[1;32m    686\u001b[0m             \u001b[0mself\u001b[0m\u001b[0;34m.\u001b[0m\u001b[0m_parent_header\u001b[0m\u001b[0;34m,\u001b[0m\u001b[0;34m\u001b[0m\u001b[0;34m\u001b[0m\u001b[0m\n\u001b[0;32m--> 687\u001b[0;31m             \u001b[0mpassword\u001b[0m\u001b[0;34m=\u001b[0m\u001b[0;32mTrue\u001b[0m\u001b[0;34m,\u001b[0m\u001b[0;34m\u001b[0m\u001b[0;34m\u001b[0m\u001b[0m\n\u001b[0m\u001b[1;32m    688\u001b[0m         )\n\u001b[1;32m    689\u001b[0m \u001b[0;34m\u001b[0m\u001b[0m\n",
            "\u001b[0;32m/usr/local/lib/python3.6/dist-packages/ipykernel/kernelbase.py\u001b[0m in \u001b[0;36m_input_request\u001b[0;34m(self, prompt, ident, parent, password)\u001b[0m\n\u001b[1;32m    732\u001b[0m             \u001b[0;32mexcept\u001b[0m \u001b[0mKeyboardInterrupt\u001b[0m\u001b[0;34m:\u001b[0m\u001b[0;34m\u001b[0m\u001b[0;34m\u001b[0m\u001b[0m\n\u001b[1;32m    733\u001b[0m                 \u001b[0;31m# re-raise KeyboardInterrupt, to truncate traceback\u001b[0m\u001b[0;34m\u001b[0m\u001b[0;34m\u001b[0m\u001b[0;34m\u001b[0m\u001b[0m\n\u001b[0;32m--> 734\u001b[0;31m                 \u001b[0;32mraise\u001b[0m \u001b[0mKeyboardInterrupt\u001b[0m\u001b[0;34m\u001b[0m\u001b[0;34m\u001b[0m\u001b[0m\n\u001b[0m\u001b[1;32m    735\u001b[0m             \u001b[0;32melse\u001b[0m\u001b[0;34m:\u001b[0m\u001b[0;34m\u001b[0m\u001b[0;34m\u001b[0m\u001b[0m\n\u001b[1;32m    736\u001b[0m                 \u001b[0;32mbreak\u001b[0m\u001b[0;34m\u001b[0m\u001b[0;34m\u001b[0m\u001b[0m\n",
            "\u001b[0;31mKeyboardInterrupt\u001b[0m: "
          ]
        }
      ]
    },
    {
      "cell_type": "code",
      "metadata": {
        "id": "q2E3tn0-lW2G",
        "colab_type": "code",
        "colab": {}
      },
      "source": [
        "with open('/gdrive/My Drive/foo.txt', 'w') as f:\n",
        "  f.write('Hello Google Drive!')\n",
        "!cat '/gdrive/My Drive/foo.txt'"
      ],
      "execution_count": 0,
      "outputs": []
    },
    {
      "cell_type": "code",
      "metadata": {
        "id": "v46MfV2hFPr_",
        "colab_type": "code",
        "outputId": "78a551ac-95a9-4ca0-937e-dceea8aa4bbb",
        "colab": {
          "base_uri": "https://localhost:8080/",
          "height": 217
        }
      },
      "source": [
        "with open('/gdrive/My Drive/foo.txt', 'w') as f:\n",
        "  f.write('Hello Google Drive!')\n",
        "!cat '/gdrive/My Drive/foo.txt'"
      ],
      "execution_count": 0,
      "outputs": [
        {
          "output_type": "error",
          "ename": "FileNotFoundError",
          "evalue": "ignored",
          "traceback": [
            "\u001b[0;31m---------------------------------------------------------------------------\u001b[0m",
            "\u001b[0;31mFileNotFoundError\u001b[0m                         Traceback (most recent call last)",
            "\u001b[0;32m<ipython-input-3-38f6a6a33c78>\u001b[0m in \u001b[0;36m<module>\u001b[0;34m()\u001b[0m\n\u001b[0;32m----> 1\u001b[0;31m \u001b[0;32mwith\u001b[0m \u001b[0mopen\u001b[0m\u001b[0;34m(\u001b[0m\u001b[0;34m'/gdrive/My Drive/foo.txt'\u001b[0m\u001b[0;34m,\u001b[0m \u001b[0;34m'w'\u001b[0m\u001b[0;34m)\u001b[0m \u001b[0;32mas\u001b[0m \u001b[0mf\u001b[0m\u001b[0;34m:\u001b[0m\u001b[0;34m\u001b[0m\u001b[0;34m\u001b[0m\u001b[0m\n\u001b[0m\u001b[1;32m      2\u001b[0m   \u001b[0mf\u001b[0m\u001b[0;34m.\u001b[0m\u001b[0mwrite\u001b[0m\u001b[0;34m(\u001b[0m\u001b[0;34m'Hello Google Drive!'\u001b[0m\u001b[0;34m)\u001b[0m\u001b[0;34m\u001b[0m\u001b[0;34m\u001b[0m\u001b[0m\n\u001b[1;32m      3\u001b[0m \u001b[0mget_ipython\u001b[0m\u001b[0;34m(\u001b[0m\u001b[0;34m)\u001b[0m\u001b[0;34m.\u001b[0m\u001b[0msystem\u001b[0m\u001b[0;34m(\u001b[0m\u001b[0;34m\"cat '/gdrive/My Drive/foo.txt'\"\u001b[0m\u001b[0;34m)\u001b[0m\u001b[0;34m\u001b[0m\u001b[0;34m\u001b[0m\u001b[0m\n",
            "\u001b[0;31mFileNotFoundError\u001b[0m: [Errno 2] No such file or directory: '/gdrive/My Drive/foo.txt'"
          ]
        }
      ]
    },
    {
      "cell_type": "code",
      "metadata": {
        "id": "vvLRZPZ6XqAx",
        "colab_type": "code",
        "outputId": "95f9c630-c97c-43ed-a6df-5fa13ae04014",
        "colab": {
          "base_uri": "https://localhost:8080/",
          "height": 462
        }
      },
      "source": [
        "!pip install PyPDF2\n",
        "!pip install tika\n",
        "import PyPDF2\n",
        "import re\n",
        "import pandas as pd\n",
        "import os\n",
        "from decimal import Decimal\n",
        "import PyPDF2\n",
        "import re\n",
        "import pandas as pd\n",
        "import os\n",
        "from decimal import Decimal\n",
        "from tika import parser\n"
      ],
      "execution_count": 0,
      "outputs": [
        {
          "output_type": "stream",
          "text": [
            "Collecting PyPDF2\n",
            "\u001b[?25l  Downloading https://files.pythonhosted.org/packages/b4/01/68fcc0d43daf4c6bdbc6b33cc3f77bda531c86b174cac56ef0ffdb96faab/PyPDF2-1.26.0.tar.gz (77kB)\n",
            "\r\u001b[K     |████▎                           | 10kB 19.2MB/s eta 0:00:01\r\u001b[K     |████████▌                       | 20kB 1.8MB/s eta 0:00:01\r\u001b[K     |████████████▊                   | 30kB 2.6MB/s eta 0:00:01\r\u001b[K     |█████████████████               | 40kB 1.7MB/s eta 0:00:01\r\u001b[K     |█████████████████████▏          | 51kB 2.1MB/s eta 0:00:01\r\u001b[K     |█████████████████████████▍      | 61kB 2.6MB/s eta 0:00:01\r\u001b[K     |█████████████████████████████▋  | 71kB 2.9MB/s eta 0:00:01\r\u001b[K     |████████████████████████████████| 81kB 2.7MB/s \n",
            "\u001b[?25hBuilding wheels for collected packages: PyPDF2\n",
            "  Building wheel for PyPDF2 (setup.py) ... \u001b[?25l\u001b[?25hdone\n",
            "  Created wheel for PyPDF2: filename=PyPDF2-1.26.0-cp36-none-any.whl size=61086 sha256=2a88dea0bd1ea1b46410f8ff68c88f770385a17955b41fab181120ea8739d11a\n",
            "  Stored in directory: /root/.cache/pip/wheels/53/84/19/35bc977c8bf5f0c23a8a011aa958acd4da4bbd7a229315c1b7\n",
            "Successfully built PyPDF2\n",
            "Installing collected packages: PyPDF2\n",
            "Successfully installed PyPDF2-1.26.0\n",
            "Collecting tika\n",
            "  Downloading https://files.pythonhosted.org/packages/96/07/244fbb9c74c0de8a3745cc9f3f496077a29f6418c7cbd90d68fd799574cb/tika-1.24.tar.gz\n",
            "Requirement already satisfied: setuptools in /usr/local/lib/python3.6/dist-packages (from tika) (46.1.3)\n",
            "Requirement already satisfied: requests in /usr/local/lib/python3.6/dist-packages (from tika) (2.21.0)\n",
            "Requirement already satisfied: certifi>=2017.4.17 in /usr/local/lib/python3.6/dist-packages (from requests->tika) (2020.4.5.1)\n",
            "Requirement already satisfied: idna<2.9,>=2.5 in /usr/local/lib/python3.6/dist-packages (from requests->tika) (2.8)\n",
            "Requirement already satisfied: urllib3<1.25,>=1.21.1 in /usr/local/lib/python3.6/dist-packages (from requests->tika) (1.24.3)\n",
            "Requirement already satisfied: chardet<3.1.0,>=3.0.2 in /usr/local/lib/python3.6/dist-packages (from requests->tika) (3.0.4)\n",
            "Building wheels for collected packages: tika\n",
            "  Building wheel for tika (setup.py) ... \u001b[?25l\u001b[?25hdone\n",
            "  Created wheel for tika: filename=tika-1.24-cp36-none-any.whl size=32885 sha256=3faa74caa5d22eed7b1608acb316cee0b1384ab13ab1f3500fa3c6874b324be4\n",
            "  Stored in directory: /root/.cache/pip/wheels/73/9c/f5/0b1b738442fc2a2862bef95b908b374f8e80215550fb2a8975\n",
            "Successfully built tika\n",
            "Installing collected packages: tika\n",
            "Successfully installed tika-1.24\n"
          ],
          "name": "stdout"
        }
      ]
    },
    {
      "cell_type": "code",
      "metadata": {
        "id": "nKZSfSj8prB1",
        "colab_type": "code",
        "outputId": "0f738e5e-3848-4f8d-e665-26e650be3a88",
        "colab": {
          "base_uri": "https://localhost:8080/",
          "height": 34
        }
      },
      "source": [
        "%cd/content/drive/My Drive/1_Latihan"
      ],
      "execution_count": 0,
      "outputs": [
        {
          "output_type": "stream",
          "text": [
            "/content/drive/My Drive/1_Latihan\n"
          ],
          "name": "stdout"
        }
      ]
    },
    {
      "cell_type": "code",
      "metadata": {
        "id": "u5YiOaRlIgtZ",
        "colab_type": "code",
        "outputId": "a6c0e89c-b0c5-47bf-bca6-0fcd883902d4",
        "colab": {
          "base_uri": "https://localhost:8080/",
          "height": 54
        }
      },
      "source": [
        "from google.colab import drive\n",
        "drive.mount('/content/drive')"
      ],
      "execution_count": 0,
      "outputs": [
        {
          "output_type": "stream",
          "text": [
            "Drive already mounted at /content/drive; to attempt to forcibly remount, call drive.mount(\"/content/drive\", force_remount=True).\n"
          ],
          "name": "stdout"
        }
      ]
    },
    {
      "cell_type": "markdown",
      "metadata": {
        "id": "FE_Tuwv8m7GJ",
        "colab_type": "text"
      },
      "source": [
        "menghubungkan google collabs dengan drive masing-masing\n"
      ]
    },
    {
      "cell_type": "markdown",
      "metadata": {
        "id": "TC3YmhzEc33-",
        "colab_type": "text"
      },
      "source": [
        "Mendownload Data dari web https://www.google.com/covid19/mobility/"
      ]
    },
    {
      "cell_type": "code",
      "metadata": {
        "id": "FXW8fHR6c1b6",
        "colab_type": "code",
        "colab": {}
      },
      "source": [
        "from bs4 import BeautifulSoup\n",
        "import requests\n",
        "import re\n",
        "req = requests.get(\"https://www.google.com/covid19/mobility/\")\n",
        "soup = BeautifulSoup(req.text, \"lxml\")\n",
        "pages = soup.findAll('a', href=re.compile('https://www.gstatic.com/covid19/mobility/*'))\n",
        "def download_file(url):\n",
        "    path = url.split('/')[-1].split('?')[0]\n",
        "    r = requests.get(url, stream=True)\n",
        "    if r.status_code == 200:\n",
        "        with open(path, 'wb') as f:\n",
        "            for chunk in r:\n",
        "                f.write(chunk)\n",
        "for page in pages:\n",
        "    url =  page.get('href')\n",
        "    req = requests.get(url)\n",
        "    download_file(url)"
      ],
      "execution_count": 0,
      "outputs": []
    },
    {
      "cell_type": "code",
      "metadata": {
        "id": "ohJYKkEzdLYD",
        "colab_type": "code",
        "outputId": "57c89961-0cc5-4b51-926d-a7ad7f1fd675",
        "colab": {
          "base_uri": "https://localhost:8080/",
          "height": 88
        }
      },
      "source": [
        " raw = parser.from_file('/content/drive/My Drive/1_Latihan/2020-04-05_AR_Mobility_Report_en.pdf')"
      ],
      "execution_count": 0,
      "outputs": [
        {
          "output_type": "stream",
          "text": [
            "2020-04-13 13:19:45,968 [MainThread  ] [INFO ]  Retrieving http://search.maven.org/remotecontent?filepath=org/apache/tika/tika-server/1.24/tika-server-1.24.jar to /tmp/tika-server.jar.\n",
            "2020-04-13 13:19:46,857 [MainThread  ] [INFO ]  Retrieving http://search.maven.org/remotecontent?filepath=org/apache/tika/tika-server/1.24/tika-server-1.24.jar.md5 to /tmp/tika-server.jar.md5.\n",
            "2020-04-13 13:19:47,242 [MainThread  ] [WARNI]  Failed to see startup log message; retrying...\n"
          ],
          "name": "stderr"
        }
      ]
    },
    {
      "cell_type": "code",
      "metadata": {
        "id": "yS-j6KJctEu2",
        "colab_type": "code",
        "outputId": "03be0de5-11d4-43c0-9042-3206e2820ffe",
        "colab": {
          "base_uri": "https://localhost:8080/",
          "height": 989
        }
      },
      "source": [
        "raw"
      ],
      "execution_count": 0,
      "outputs": [
        {
          "output_type": "execute_result",
          "data": {
            "text/plain": [
              "{'content': '\\n\\n\\n\\n\\n\\n\\n\\n\\n\\n\\n\\n\\n\\n\\n\\n\\n\\n\\n\\n\\n\\n\\n\\n\\n\\nCOVID-19 Community Mobility Report\\n\\nArgentina April 5, 2020\\n\\nMobility changes\\n\\nGoogle prepared this report to help you and public health officials understand responses to social\\ndistancing guidance related to COVID-19. This report shouldn’t be used for medical diagnostic,\\nprognostic, or treatment purposes. It also isn’t intended to be used for guidance on personal travel\\nplans.\\n\\nLocation accuracy and the understanding of categorized places varies from region to region, so we\\ndon’t recommend using this data to compare changes between countries, or between regions with\\ndifferent characteristics (e.g. rural versus urban areas).\\n\\nWe’ll leave a region out of the report if we don’t have statistically significant levels of data. To learn how\\nwe calculate these trends and preserve privacy, read About this data.\\n\\nRetail & recreation\\n\\n-83%\\ncompared to baseline\\n\\nSun Feb 23 Sun Mar 15 Sun Apr 5\\n-80%\\n\\n-40%\\n\\nBaseline\\n\\n+40%\\n\\n+80%\\nMobility trends for places like restaurants,\\ncafes, shopping centers, theme parks,\\nmuseums, libraries, and movie theaters.\\n\\nGrocery & pharmacy\\n\\n-54%\\ncompared to baseline\\n\\nSun Feb 23 Sun Mar 15 Sun Apr 5\\n-80%\\n\\n-40%\\n\\nBaseline\\n\\n+40%\\n\\n+80%\\nMobility trends for places like grocery\\nmarkets, food warehouses, farmers\\nmarkets, specialty food shops, drug stores,\\nand pharmacies.\\n\\nParks\\n\\n-87%\\ncompared to baseline\\n\\nSun Feb 23 Sun Mar 15 Sun Apr 5\\n-80%\\n\\n-40%\\n\\nBaseline\\n\\n+40%\\n\\n+80%\\nMobility trends for places like national parks,\\npublic beaches, marinas, dog parks, plazas,\\nand public gardens.\\n\\n\\n\\nTransit stations\\n\\n-76%\\ncompared to baseline\\n\\nSun Feb 23 Sun Mar 15 Sun Apr 5\\n-80%\\n\\n-40%\\n\\nBaseline\\n\\n+40%\\n\\n+80%\\nMobility trends for places like public transport\\nhubs such as subway, bus, and train stations.\\n\\nWorkplaces\\n\\n-52%\\ncompared to baseline\\n\\nSun Feb 23 Sun Mar 15 Sun Apr 5\\n-80%\\n\\n-40%\\n\\nBaseline\\n\\n+40%\\n\\n+80%\\nMobility trends for places of work.\\n\\nResidential\\n\\n+26%\\ncompared to baseline\\n\\nSun Feb 23 Sun Mar 15 Sun Apr 5\\n-80%\\n\\n-40%\\n\\nBaseline\\n\\n+40%\\n\\n+80%\\nMobility trends for places of residence.\\n\\n\\n\\nBuenos Aires\\n\\nRetail & recreation\\n\\n-88%  compared to baseline\\n\\nGrocery & pharmacy\\n\\n-44%  compared to baseline\\n\\nParks\\n\\n-89%  compared to baseline\\n\\nTransit stations\\n\\n-80%  compared to baseline\\n\\nWorkplace\\n\\n-66%  compared to baseline\\n\\nResidential\\n\\n+30%  compared to baseline\\n\\nBuenos Aires Province\\n\\nRetail & recreation\\n\\n-84%  compared to baseline\\n\\nGrocery & pharmacy\\n\\n-53%  compared to baseline\\n\\nParks\\n\\n-89%  compared to baseline\\n\\nTransit stations\\n\\n-73%  compared to baseline\\n\\nWorkplace\\n\\n-56%  compared to baseline\\n\\nResidential\\n\\n+25%  compared to baseline\\n\\nSun Feb 23 Sun Mar 15 Sun Apr 5\\n-80%\\n\\n-40%\\n\\nBaseline\\n\\n+40%\\n\\n+80%\\n\\nSun Feb 23 Sun Mar 15 Sun Apr 5\\n-80%\\n\\n-40%\\n\\nBaseline\\n\\n+40%\\n\\n+80%\\n\\nSun Feb 23 Sun Mar 15 Sun Apr 5\\n-80%\\n\\n-40%\\n\\nBaseline\\n\\n+40%\\n\\n+80%\\n\\nSun Feb 23 Sun Mar 15 Sun Apr 5\\n-80%\\n\\n-40%\\n\\nBaseline\\n\\n+40%\\n\\n+80%\\n\\nSun Feb 23 Sun Mar 15 Sun Apr 5\\n-80%\\n\\n-40%\\n\\nBaseline\\n\\n+40%\\n\\n+80%\\n\\nSun Feb 23 Sun Mar 15 Sun Apr 5\\n-80%\\n\\n-40%\\n\\nBaseline\\n\\n+40%\\n\\n+80%\\n\\nSun Feb 23 Sun Mar 15 Sun Apr 5\\n-80%\\n\\n-40%\\n\\nBaseline\\n\\n+40%\\n\\n+80%\\n\\nSun Feb 23 Sun Mar 15 Sun Apr 5\\n-80%\\n\\n-40%\\n\\nBaseline\\n\\n+40%\\n\\n+80%\\n\\nSun Feb 23 Sun Mar 15 Sun Apr 5\\n-80%\\n\\n-40%\\n\\nBaseline\\n\\n+40%\\n\\n+80%\\n\\nSun Feb 23 Sun Mar 15 Sun Apr 5\\n-80%\\n\\n-40%\\n\\nBaseline\\n\\n+40%\\n\\n+80%\\n\\nSun Feb 23 Sun Mar 15 Sun Apr 5\\n-80%\\n\\n-40%\\n\\nBaseline\\n\\n+40%\\n\\n+80%\\n\\nSun Feb 23 Sun Mar 15 Sun Apr 5\\n-80%\\n\\n-40%\\n\\nBaseline\\n\\n+40%\\n\\n+80%\\n\\n\\n\\nCatamarca Province\\n\\nRetail & recreation\\n\\n-66%  compared to baseline\\n\\nGrocery & pharmacy\\n\\n-33%  compared to baseline\\n\\nParks\\n\\n-74%  compared to baseline\\n\\nTransit stations\\n\\n-79%  compared to baseline\\n\\nWorkplace\\n\\n-29%  compared to baseline\\n\\nResidential\\n\\n+27%  compared to baseline\\n\\nChaco Province\\n\\nRetail & recreation\\n\\n-72%  compared to baseline\\n\\nGrocery & pharmacy\\n\\n-51%  compared to baseline\\n\\nParks\\n\\n-77%  compared to baseline\\n\\nTransit stations\\n\\n-90%  compared to baseline\\n\\nWorkplace\\n\\n-40%  compared to baseline\\n\\nResidential\\n\\n+21%  compared to baseline\\n\\nSun Feb 23 Sun Mar 15 Sun Apr 5\\n-80%\\n\\n-40%\\n\\nBaseline\\n\\n+40%\\n\\n+80%\\n\\nSun Feb 23 Sun Mar 15 Sun Apr 5\\n-80%\\n\\n-40%\\n\\nBaseline\\n\\n+40%\\n\\n+80%\\n\\nSun Feb 23 Sun Mar 15 Sun Apr 5\\n-80%\\n\\n-40%\\n\\nBaseline\\n\\n+40%\\n\\n+80%\\n\\nSun Feb 23 Sun Mar 15 Sun Apr 5\\n-80%\\n\\n-40%\\n\\nBaseline\\n\\n+40%\\n\\n+80%\\n\\nSun Feb 23 Sun Mar 15 Sun Apr 5\\n-80%\\n\\n-40%\\n\\nBaseline\\n\\n+40%\\n\\n+80%\\n\\nSun Feb 23 Sun Mar 15 Sun Apr 5\\n-80%\\n\\n-40%\\n\\nBaseline\\n\\n+40%\\n\\n+80%\\n\\nSun Feb 23 Sun Mar 15 Sun Apr 5\\n-80%\\n\\n-40%\\n\\nBaseline\\n\\n+40%\\n\\n+80%\\n\\nSun Feb 23 Sun Mar 15 Sun Apr 5\\n-80%\\n\\n-40%\\n\\nBaseline\\n\\n+40%\\n\\n+80%\\n\\nSun Feb 23 Sun Mar 15 Sun Apr 5\\n-80%\\n\\n-40%\\n\\nBaseline\\n\\n+40%\\n\\n+80%\\n\\nSun Feb 23 Sun Mar 15 Sun Apr 5\\n-80%\\n\\n-40%\\n\\nBaseline\\n\\n+40%\\n\\n+80%\\n\\nSun Feb 23 Sun Mar 15 Sun Apr 5\\n-80%\\n\\n-40%\\n\\nBaseline\\n\\n+40%\\n\\n+80%\\n\\nSun Feb 23 Sun Mar 15 Sun Apr 5\\n-80%\\n\\n-40%\\n\\nBaseline\\n\\n+40%\\n\\n+80%\\n\\n\\n\\nChubut Province\\n\\nRetail & recreation\\n\\n-86%  compared to baseline\\n\\nGrocery & pharmacy\\n\\n-59%  compared to baseline\\n\\nParks\\n\\n-92%  compared to baseline\\n\\nTransit stations\\n\\n-87%  compared to baseline\\n\\nWorkplace\\n\\n-51%  compared to baseline\\n\\nResidential\\n\\n+25%  compared to baseline\\n\\nCordoba\\n\\nRetail & recreation\\n\\n-85%  compared to baseline\\n\\nGrocery & pharmacy\\n\\n-60%  compared to baseline\\n\\nParks\\n\\n-88%  compared to baseline\\n\\nTransit stations\\n\\n-89%  compared to baseline\\n\\nWorkplace\\n\\n-52%  compared to baseline\\n\\nResidential\\n\\n+29%  compared to baseline\\n\\nSun Feb 23 Sun Mar 15 Sun Apr 5\\n-80%\\n\\n-40%\\n\\nBaseline\\n\\n+40%\\n\\n+80%\\n\\nSun Feb 23 Sun Mar 15 Sun Apr 5\\n-80%\\n\\n-40%\\n\\nBaseline\\n\\n+40%\\n\\n+80%\\n\\nSun Feb 23 Sun Mar 15 Sun Apr 5\\n-80%\\n\\n-40%\\n\\nBaseline\\n\\n+40%\\n\\n+80%\\n\\nSun Feb 23 Sun Mar 15 Sun Apr 5\\n-80%\\n\\n-40%\\n\\nBaseline\\n\\n+40%\\n\\n+80%\\n\\nSun Feb 23 Sun Mar 15 Sun Apr 5\\n-80%\\n\\n-40%\\n\\nBaseline\\n\\n+40%\\n\\n+80%\\n\\nSun Feb 23 Sun Mar 15 Sun Apr 5\\n-80%\\n\\n-40%\\n\\nBaseline\\n\\n+40%\\n\\n+80%\\n\\nSun Feb 23 Sun Mar 15 Sun Apr 5\\n-80%\\n\\n-40%\\n\\nBaseline\\n\\n+40%\\n\\n+80%\\n\\nSun Feb 23 Sun Mar 15 Sun Apr 5\\n-80%\\n\\n-40%\\n\\nBaseline\\n\\n+40%\\n\\n+80%\\n\\nSun Feb 23 Sun Mar 15 Sun Apr 5\\n-80%\\n\\n-40%\\n\\nBaseline\\n\\n+40%\\n\\n+80%\\n\\nSun Feb 23 Sun Mar 15 Sun Apr 5\\n-80%\\n\\n-40%\\n\\nBaseline\\n\\n+40%\\n\\n+80%\\n\\nSun Feb 23 Sun Mar 15 Sun Apr 5\\n-80%\\n\\n-40%\\n\\nBaseline\\n\\n+40%\\n\\n+80%\\n\\nSun Feb 23 Sun Mar 15 Sun Apr 5\\n-80%\\n\\n-40%\\n\\nBaseline\\n\\n+40%\\n\\n+80%\\n\\n\\n\\nCorrientes\\n\\nRetail & recreation\\n\\n-76%  compared to baseline\\n\\nGrocery & pharmacy\\n\\n-56%  compared to baseline\\n\\nParks\\n\\n-86%  compared to baseline\\n\\nTransit stations\\n\\n-88%  compared to baseline\\n\\nWorkplace\\n\\n-39%  compared to baseline\\n\\nResidential\\n\\n+23%  compared to baseline\\n\\nEntre Rios\\n\\nRetail & recreation\\n\\n-83%  compared to baseline\\n\\nGrocery & pharmacy\\n\\n-57%  compared to baseline\\n\\nParks\\n\\n-91%  compared to baseline\\n\\nTransit stations\\n\\n-82%  compared to baseline\\n\\nWorkplace\\n\\n-46%  compared to baseline\\n\\nResidential\\n\\n+27%  compared to baseline\\n\\nSun Feb 23 Sun Mar 15 Sun Apr 5\\n-80%\\n\\n-40%\\n\\nBaseline\\n\\n+40%\\n\\n+80%\\n\\nSun Feb 23 Sun Mar 15 Sun Apr 5\\n-80%\\n\\n-40%\\n\\nBaseline\\n\\n+40%\\n\\n+80%\\n\\nSun Feb 23 Sun Mar 15 Sun Apr 5\\n-80%\\n\\n-40%\\n\\nBaseline\\n\\n+40%\\n\\n+80%\\n\\nSun Feb 23 Sun Mar 15 Sun Apr 5\\n-80%\\n\\n-40%\\n\\nBaseline\\n\\n+40%\\n\\n+80%\\n\\nSun Feb 23 Sun Mar 15 Sun Apr 5\\n-80%\\n\\n-40%\\n\\nBaseline\\n\\n+40%\\n\\n+80%\\n\\nSun Feb 23 Sun Mar 15 Sun Apr 5\\n-80%\\n\\n-40%\\n\\nBaseline\\n\\n+40%\\n\\n+80%\\n\\nSun Feb 23 Sun Mar 15 Sun Apr 5\\n-80%\\n\\n-40%\\n\\nBaseline\\n\\n+40%\\n\\n+80%\\n\\nSun Feb 23 Sun Mar 15 Sun Apr 5\\n-80%\\n\\n-40%\\n\\nBaseline\\n\\n+40%\\n\\n+80%\\n\\nSun Feb 23 Sun Mar 15 Sun Apr 5\\n-80%\\n\\n-40%\\n\\nBaseline\\n\\n+40%\\n\\n+80%\\n\\nSun Feb 23 Sun Mar 15 Sun Apr 5\\n-80%\\n\\n-40%\\n\\nBaseline\\n\\n+40%\\n\\n+80%\\n\\nSun Feb 23 Sun Mar 15 Sun Apr 5\\n-80%\\n\\n-40%\\n\\nBaseline\\n\\n+40%\\n\\n+80%\\n\\nSun Feb 23 Sun Mar 15 Sun Apr 5\\n-80%\\n\\n-40%\\n\\nBaseline\\n\\n+40%\\n\\n+80%\\n\\n\\n\\nFormosa Province\\n\\nRetail & recreation\\n\\n-69%  compared to baseline\\n\\nGrocery & pharmacy\\n\\n-40%  compared to baseline\\n\\nParks\\n\\n-78%  compared to baseline\\n\\nTransit stations\\n\\n-63%  compared to baseline\\n\\nWorkplace\\n\\n-30%  compared to baseline\\n\\nResidential\\n\\n+18%  compared to baseline\\n\\nJujuy\\n\\nRetail & recreation\\n\\n-73%  compared to baseline\\n\\nGrocery & pharmacy\\n\\n-40%  compared to baseline\\n\\nParks\\n\\n-78%  compared to baseline\\n\\nTransit stations\\n\\n-89%  compared to baseline\\n\\nWorkplace\\n\\n-36%  compared to baseline\\n\\nResidential\\n\\n+23%  compared to baseline\\n\\nSun Feb 23 Sun Mar 15 Sun Apr 5\\n-80%\\n\\n-40%\\n\\nBaseline\\n\\n+40%\\n\\n+80%\\n\\nSun Feb 23 Sun Mar 15 Sun Apr 5\\n-80%\\n\\n-40%\\n\\nBaseline\\n\\n+40%\\n\\n+80%\\n\\nSun Feb 23 Sun Mar 15 Sun Apr 5\\n-80%\\n\\n-40%\\n\\nBaseline\\n\\n+40%\\n\\n+80%\\n\\nSun Feb 23 Sun Mar 15 Sun Apr 5\\n-80%\\n\\n-40%\\n\\nBaseline\\n\\n+40%\\n\\n+80%\\n\\nSun Feb 23 Sun Mar 15 Sun Apr 5\\n-80%\\n\\n-40%\\n\\nBaseline\\n\\n+40%\\n\\n+80%\\n\\nSun Feb 23 Sun Mar 15 Sun Apr 5\\n-80%\\n\\n-40%\\n\\nBaseline\\n\\n+40%\\n\\n+80%\\n\\nSun Feb 23 Sun Mar 15 Sun Apr 5\\n-80%\\n\\n-40%\\n\\nBaseline\\n\\n+40%\\n\\n+80%\\n\\nSun Feb 23 Sun Mar 15 Sun Apr 5\\n-80%\\n\\n-40%\\n\\nBaseline\\n\\n+40%\\n\\n+80%\\n\\nSun Feb 23 Sun Mar 15 Sun Apr 5\\n-80%\\n\\n-40%\\n\\nBaseline\\n\\n+40%\\n\\n+80%\\n\\nSun Feb 23 Sun Mar 15 Sun Apr 5\\n-80%\\n\\n-40%\\n\\nBaseline\\n\\n+40%\\n\\n+80%\\n\\nSun Feb 23 Sun Mar 15 Sun Apr 5\\n-80%\\n\\n-40%\\n\\nBaseline\\n\\n+40%\\n\\n+80%\\n\\nSun Feb 23 Sun Mar 15 Sun Apr 5\\n-80%\\n\\n-40%\\n\\nBaseline\\n\\n+40%\\n\\n+80%\\n\\n\\n\\nLa Pampa\\n\\nRetail & recreation\\n\\n-83%  compared to baseline\\n\\nGrocery & pharmacy\\n\\n-64%  compared to baseline\\n\\nParks\\n\\n-86%  compared to baseline\\n\\nTransit stations\\n\\n-82%  compared to baseline\\n\\nWorkplace\\n\\n-50%  compared to baseline\\n\\nResidential\\n\\n+26%  compared to baseline\\n\\nLa Rioja Province\\n\\nRetail & recreation\\n\\n-64%  compared to baseline\\n\\nGrocery & pharmacy\\n\\n-52%  compared to baseline\\n\\nParks\\n\\n-78%  compared to baseline\\n\\nTransit stations\\n\\n-83%  compared to baseline\\n\\nWorkplace\\n\\n-39%  compared to baseline\\n\\nResidential\\n\\n+24%  compared to baseline\\n\\nSun Feb 23 Sun Mar 15 Sun Apr 5\\n-80%\\n\\n-40%\\n\\nBaseline\\n\\n+40%\\n\\n+80%\\n\\nSun Feb 23 Sun Mar 15 Sun Apr 5\\n-80%\\n\\n-40%\\n\\nBaseline\\n\\n+40%\\n\\n+80%\\n\\nSun Feb 23 Sun Mar 15 Sun Apr 5\\n-80%\\n\\n-40%\\n\\nBaseline\\n\\n+40%\\n\\n+80%\\n\\nSun Feb 23 Sun Mar 15 Sun Apr 5\\n-80%\\n\\n-40%\\n\\nBaseline\\n\\n+40%\\n\\n+80%\\n\\nSun Feb 23 Sun Mar 15 Sun Apr 5\\n-80%\\n\\n-40%\\n\\nBaseline\\n\\n+40%\\n\\n+80%\\n\\nSun Feb 23 Sun Mar 15 Sun Apr 5\\n-80%\\n\\n-40%\\n\\nBaseline\\n\\n+40%\\n\\n+80%\\n\\nSun Feb 23 Sun Mar 15 Sun Apr 5\\n-80%\\n\\n-40%\\n\\nBaseline\\n\\n+40%\\n\\n+80%\\n\\nSun Feb 23 Sun Mar 15 Sun Apr 5\\n-80%\\n\\n-40%\\n\\nBaseline\\n\\n+40%\\n\\n+80%\\n\\nSun Feb 23 Sun Mar 15 Sun Apr 5\\n-80%\\n\\n-40%\\n\\nBaseline\\n\\n+40%\\n\\n+80%\\n\\nSun Feb 23 Sun Mar 15 Sun Apr 5\\n-80%\\n\\n-40%\\n\\nBaseline\\n\\n+40%\\n\\n+80%\\n\\nSun Feb 23 Sun Mar 15 Sun Apr 5\\n-80%\\n\\n-40%\\n\\nBaseline\\n\\n+40%\\n\\n+80%\\n\\nSun Feb 23 Sun Mar 15 Sun Apr 5\\n-80%\\n\\n-40%\\n\\nBaseline\\n\\n+40%\\n\\n+80%\\n\\n\\n\\nMendoza Province\\n\\nRetail & recreation\\n\\n-78%  compared to baseline\\n\\nGrocery & pharmacy\\n\\n-50%  compared to baseline\\n\\nParks\\n\\n-81%  compared to baseline\\n\\nTransit stations\\n\\n-69%  compared to baseline\\n\\nWorkplace\\n\\n-45%  compared to baseline\\n\\nResidential\\n\\n+27%  compared to baseline\\n\\nMisiones Province\\n\\nRetail & recreation\\n\\n-75%  compared to baseline\\n\\nGrocery & pharmacy\\n\\n-52%  compared to baseline\\n\\nParks\\n\\n-80%  compared to baseline\\n\\nTransit stations\\n\\n-91%  compared to baseline\\n\\nWorkplace\\n\\n-42%  compared to baseline\\n\\nResidential\\n\\n+24%  compared to baseline\\n\\nSun Feb 23 Sun Mar 15 Sun Apr 5\\n-80%\\n\\n-40%\\n\\nBaseline\\n\\n+40%\\n\\n+80%\\n\\nSun Feb 23 Sun Mar 15 Sun Apr 5\\n-80%\\n\\n-40%\\n\\nBaseline\\n\\n+40%\\n\\n+80%\\n\\nSun Feb 23 Sun Mar 15 Sun Apr 5\\n-80%\\n\\n-40%\\n\\nBaseline\\n\\n+40%\\n\\n+80%\\n\\nSun Feb 23 Sun Mar 15 Sun Apr 5\\n-80%\\n\\n-40%\\n\\nBaseline\\n\\n+40%\\n\\n+80%\\n\\nSun Feb 23 Sun Mar 15 Sun Apr 5\\n-80%\\n\\n-40%\\n\\nBaseline\\n\\n+40%\\n\\n+80%\\n\\nSun Feb 23 Sun Mar 15 Sun Apr 5\\n-80%\\n\\n-40%\\n\\nBaseline\\n\\n+40%\\n\\n+80%\\n\\nSun Feb 23 Sun Mar 15 Sun Apr 5\\n-80%\\n\\n-40%\\n\\nBaseline\\n\\n+40%\\n\\n+80%\\n\\nSun Feb 23 Sun Mar 15 Sun Apr 5\\n-80%\\n\\n-40%\\n\\nBaseline\\n\\n+40%\\n\\n+80%\\n\\nSun Feb 23 Sun Mar 15 Sun Apr 5\\n-80%\\n\\n-40%\\n\\nBaseline\\n\\n+40%\\n\\n+80%\\n\\nSun Feb 23 Sun Mar 15 Sun Apr 5\\n-80%\\n\\n-40%\\n\\nBaseline\\n\\n+40%\\n\\n+80%\\n\\nSun Feb 23 Sun Mar 15 Sun Apr 5\\n-80%\\n\\n-40%\\n\\nBaseline\\n\\n+40%\\n\\n+80%\\n\\nSun Feb 23 Sun Mar 15 Sun Apr 5\\n-80%\\n\\n-40%\\n\\nBaseline\\n\\n+40%\\n\\n+80%\\n\\n\\n\\nNeuquen\\n\\nRetail & recreation\\n\\n-96%  compared to baseline\\n\\nGrocery & pharmacy\\n\\n-94%  compared to baseline\\n\\nParks\\n\\n-95%  compared to baseline\\n\\nTransit stations\\n\\n-89%  compared to baseline\\n\\nWorkplace\\n\\n-69%  compared to baseline\\n\\nResidential\\n\\n+32%  compared to baseline\\n\\nRío Negro\\n\\nRetail & recreation\\n\\n-88%  compared to baseline\\n\\nGrocery & pharmacy\\n\\n-66%  compared to baseline\\n\\nParks\\n\\n-90%  compared to baseline\\n\\nTransit stations\\n\\n-96%  compared to baseline\\n\\nWorkplace\\n\\n-51%  compared to baseline\\n\\nResidential\\n\\n+27%  compared to baseline\\n\\nSun Feb 23 Sun Mar 15 Sun Apr 5\\n-80%\\n\\n-40%\\n\\nBaseline\\n\\n+40%\\n\\n+80%\\n\\nSun Feb 23 Sun Mar 15 Sun Apr 5\\n-80%\\n\\n-40%\\n\\nBaseline\\n\\n+40%\\n\\n+80%\\n\\nSun Feb 23 Sun Mar 15 Sun Apr 5\\n-80%\\n\\n-40%\\n\\nBaseline\\n\\n+40%\\n\\n+80%\\n\\nSun Feb 23 Sun Mar 15 Sun Apr 5\\n-80%\\n\\n-40%\\n\\nBaseline\\n\\n+40%\\n\\n+80%\\n\\nSun Feb 23 Sun Mar 15 Sun Apr 5\\n-80%\\n\\n-40%\\n\\nBaseline\\n\\n+40%\\n\\n+80%\\n\\nSun Feb 23 Sun Mar 15 Sun Apr 5\\n-80%\\n\\n-40%\\n\\nBaseline\\n\\n+40%\\n\\n+80%\\n\\nSun Feb 23 Sun Mar 15 Sun Apr 5\\n-80%\\n\\n-40%\\n\\nBaseline\\n\\n+40%\\n\\n+80%\\n\\nSun Feb 23 Sun Mar 15 Sun Apr 5\\n-80%\\n\\n-40%\\n\\nBaseline\\n\\n+40%\\n\\n+80%\\n\\nSun Feb 23 Sun Mar 15 Sun Apr 5\\n-80%\\n\\n-40%\\n\\nBaseline\\n\\n+40%\\n\\n+80%\\n\\nSun Feb 23 Sun Mar 15 Sun Apr 5\\n-80%\\n\\n-40%\\n\\nBaseline\\n\\n+40%\\n\\n+80%\\n\\nSun Feb 23 Sun Mar 15 Sun Apr 5\\n-80%\\n\\n-40%\\n\\nBaseline\\n\\n+40%\\n\\n+80%\\n\\nSun Feb 23 Sun Mar 15 Sun Apr 5\\n-80%\\n\\n-40%\\n\\nBaseline\\n\\n+40%\\n\\n+80%\\n\\n\\n\\nSalta Province\\n\\nRetail & recreation\\n\\n-77%  compared to baseline\\n\\nGrocery & pharmacy\\n\\n-43%  compared to baseline\\n\\nParks\\n\\n-80%  compared to baseline\\n\\nTransit stations\\n\\n-67%  compared to baseline\\n\\nWorkplace\\n\\n-40%  compared to baseline\\n\\nResidential\\n\\n+24%  compared to baseline\\n\\nSan Juan Province\\n\\nRetail & recreation\\n\\n-71%  compared to baseline\\n\\nGrocery & pharmacy\\n\\n-42%  compared to baseline\\n\\nParks\\n\\n-76%  compared to baseline\\n\\nTransit stations\\n\\n-85%  compared to baseline\\n\\nWorkplace\\n\\n-39%  compared to baseline\\n\\nResidential\\n\\n+25%  compared to baseline\\n\\nSun Feb 23 Sun Mar 15 Sun Apr 5\\n-80%\\n\\n-40%\\n\\nBaseline\\n\\n+40%\\n\\n+80%\\n\\nSun Feb 23 Sun Mar 15 Sun Apr 5\\n-80%\\n\\n-40%\\n\\nBaseline\\n\\n+40%\\n\\n+80%\\n\\nSun Feb 23 Sun Mar 15 Sun Apr 5\\n-80%\\n\\n-40%\\n\\nBaseline\\n\\n+40%\\n\\n+80%\\n\\nSun Feb 23 Sun Mar 15 Sun Apr 5\\n-80%\\n\\n-40%\\n\\nBaseline\\n\\n+40%\\n\\n+80%\\n\\nSun Feb 23 Sun Mar 15 Sun Apr 5\\n-80%\\n\\n-40%\\n\\nBaseline\\n\\n+40%\\n\\n+80%\\n\\nSun Feb 23 Sun Mar 15 Sun Apr 5\\n-80%\\n\\n-40%\\n\\nBaseline\\n\\n+40%\\n\\n+80%\\n\\nSun Feb 23 Sun Mar 15 Sun Apr 5\\n-80%\\n\\n-40%\\n\\nBaseline\\n\\n+40%\\n\\n+80%\\n\\nSun Feb 23 Sun Mar 15 Sun Apr 5\\n-80%\\n\\n-40%\\n\\nBaseline\\n\\n+40%\\n\\n+80%\\n\\nSun Feb 23 Sun Mar 15 Sun Apr 5\\n-80%\\n\\n-40%\\n\\nBaseline\\n\\n+40%\\n\\n+80%\\n\\nSun Feb 23 Sun Mar 15 Sun Apr 5\\n-80%\\n\\n-40%\\n\\nBaseline\\n\\n+40%\\n\\n+80%\\n\\nSun Feb 23 Sun Mar 15 Sun Apr 5\\n-80%\\n\\n-40%\\n\\nBaseline\\n\\n+40%\\n\\n+80%\\n\\nSun Feb 23 Sun Mar 15 Sun Apr 5\\n-80%\\n\\n-40%\\n\\nBaseline\\n\\n+40%\\n\\n+80%\\n\\n\\n\\nSan Luis Province\\n\\nRetail & recreation\\n\\n-82%  compared to baseline\\n\\nGrocery & pharmacy\\n\\n-57%  compared to baseline\\n\\nParks\\n\\n-88%  compared to baseline\\n\\nTransit stations\\n\\n-91%  compared to baseline\\n\\nWorkplace\\n\\n-49%  compared to baseline\\n\\nResidential\\n\\n+28%  compared to baseline\\n\\nSanta Cruz Province\\n\\nRetail & recreation\\n\\n-80%  compared to baseline\\n\\nGrocery & pharmacy\\n\\n-66%  compared to baseline\\n\\nParks\\n\\n-87%  compared to baseline\\n\\nTransit stations\\n\\n-85%  compared to baseline\\n\\nWorkplace\\n\\n-53%  compared to baseline\\n\\nResidential\\n\\n+23%  compared to baseline\\n\\nSun Feb 23 Sun Mar 15 Sun Apr 5\\n-80%\\n\\n-40%\\n\\nBaseline\\n\\n+40%\\n\\n+80%\\n\\nSun Feb 23 Sun Mar 15 Sun Apr 5\\n-80%\\n\\n-40%\\n\\nBaseline\\n\\n+40%\\n\\n+80%\\n\\nSun Feb 23 Sun Mar 15 Sun Apr 5\\n-80%\\n\\n-40%\\n\\nBaseline\\n\\n+40%\\n\\n+80%\\n\\nSun Feb 23 Sun Mar 15 Sun Apr 5\\n-80%\\n\\n-40%\\n\\nBaseline\\n\\n+40%\\n\\n+80%\\n\\nSun Feb 23 Sun Mar 15 Sun Apr 5\\n-80%\\n\\n-40%\\n\\nBaseline\\n\\n+40%\\n\\n+80%\\n\\nSun Feb 23 Sun Mar 15 Sun Apr 5\\n-80%\\n\\n-40%\\n\\nBaseline\\n\\n+40%\\n\\n+80%\\n\\nSun Feb 23 Sun Mar 15 Sun Apr 5\\n-80%\\n\\n-40%\\n\\nBaseline\\n\\n+40%\\n\\n+80%\\n\\nSun Feb 23 Sun Mar 15 Sun Apr 5\\n-80%\\n\\n-40%\\n\\nBaseline\\n\\n+40%\\n\\n+80%\\n\\nSun Feb 23 Sun Mar 15 Sun Apr 5\\n-80%\\n\\n-40%\\n\\nBaseline\\n\\n+40%\\n\\n+80%\\n\\nSun Feb 23 Sun Mar 15 Sun Apr 5\\n-80%\\n\\n-40%\\n\\nBaseline\\n\\n+40%\\n\\n+80%\\n\\nSun Feb 23 Sun Mar 15 Sun Apr 5\\n-80%\\n\\n-40%\\n\\nBaseline\\n\\n+40%\\n\\n+80%\\n\\nSun Feb 23 Sun Mar 15 Sun Apr 5\\n-80%\\n\\n-40%\\n\\nBaseline\\n\\n+40%\\n\\n+80%\\n\\n\\n\\nSanta Fe Province\\n\\nRetail & recreation\\n\\n-83%  compared to baseline\\n\\nGrocery & pharmacy\\n\\n-56%  compared to baseline\\n\\nParks\\n\\n-87%  compared to baseline\\n\\nTransit stations\\n\\n-70%  compared to baseline\\n\\nWorkplace\\n\\n-52%  compared to baseline\\n\\nResidential\\n\\n+27%  compared to baseline\\n\\nSantiago del Estero Province\\n\\nRetail & recreation\\n\\n-72%  compared to baseline\\n\\nGrocery & pharmacy\\n\\n-44%  compared to baseline\\n\\nParks\\n\\n-71%  compared to baseline\\n\\nTransit stations\\n\\n-87%  compared to baseline\\n\\nWorkplace\\n\\n-40%  compared to baseline\\n\\nResidential\\n\\n+23%  compared to baseline\\n\\nSun Feb 23 Sun Mar 15 Sun Apr 5\\n-80%\\n\\n-40%\\n\\nBaseline\\n\\n+40%\\n\\n+80%\\n\\nSun Feb 23 Sun Mar 15 Sun Apr 5\\n-80%\\n\\n-40%\\n\\nBaseline\\n\\n+40%\\n\\n+80%\\n\\nSun Feb 23 Sun Mar 15 Sun Apr 5\\n-80%\\n\\n-40%\\n\\nBaseline\\n\\n+40%\\n\\n+80%\\n\\nSun Feb 23 Sun Mar 15 Sun Apr 5\\n-80%\\n\\n-40%\\n\\nBaseline\\n\\n+40%\\n\\n+80%\\n\\nSun Feb 23 Sun Mar 15 Sun Apr 5\\n-80%\\n\\n-40%\\n\\nBaseline\\n\\n+40%\\n\\n+80%\\n\\nSun Feb 23 Sun Mar 15 Sun Apr 5\\n-80%\\n\\n-40%\\n\\nBaseline\\n\\n+40%\\n\\n+80%\\n\\nSun Feb 23 Sun Mar 15 Sun Apr 5\\n-80%\\n\\n-40%\\n\\nBaseline\\n\\n+40%\\n\\n+80%\\n\\nSun Feb 23 Sun Mar 15 Sun Apr 5\\n-80%\\n\\n-40%\\n\\nBaseline\\n\\n+40%\\n\\n+80%\\n\\nSun Feb 23 Sun Mar 15 Sun Apr 5\\n-80%\\n\\n-40%\\n\\nBaseline\\n\\n+40%\\n\\n+80%\\n\\nSun Feb 23 Sun Mar 15 Sun Apr 5\\n-80%\\n\\n-40%\\n\\nBaseline\\n\\n+40%\\n\\n+80%\\n\\nSun Feb 23 Sun Mar 15 Sun Apr 5\\n-80%\\n\\n-40%\\n\\nBaseline\\n\\n+40%\\n\\n+80%\\n\\nSun Feb 23 Sun Mar 15 Sun Apr 5\\n-80%\\n\\n-40%\\n\\nBaseline\\n\\n+40%\\n\\n+80%\\n\\n\\n\\nTierra del Fuego Province\\n\\nRetail & recreation\\n\\n-86%  compared to baseline\\n\\nGrocery & pharmacy\\n\\n-62%  compared to baseline\\n\\nParks\\n\\n-89%  compared to baseline\\n\\nTransit stations\\n\\n-93%  compared to baseline\\n\\nWorkplace\\n\\n-59%  compared to baseline\\n\\nResidential\\n\\n+24%  compared to baseline\\n\\nTucumán\\n\\nRetail & recreation\\n\\n-76%  compared to baseline\\n\\nGrocery & pharmacy\\n\\n-43%  compared to baseline\\n\\nParks\\n\\n-72%  compared to baseline\\n\\nTransit stations\\n\\n-86%  compared to baseline\\n\\nWorkplace\\n\\n-43%  compared to baseline\\n\\nResidential\\n\\n+25%  compared to baseline\\n\\nSun Feb 23 Sun Mar 15 Sun Apr 5\\n-80%\\n\\n-40%\\n\\nBaseline\\n\\n+40%\\n\\n+80%\\n\\nSun Feb 23 Sun Mar 15 Sun Apr 5\\n-80%\\n\\n-40%\\n\\nBaseline\\n\\n+40%\\n\\n+80%\\n\\nSun Feb 23 Sun Mar 15 Sun Apr 5\\n-80%\\n\\n-40%\\n\\nBaseline\\n\\n+40%\\n\\n+80%\\n\\nSun Feb 23 Sun Mar 15 Sun Apr 5\\n-80%\\n\\n-40%\\n\\nBaseline\\n\\n+40%\\n\\n+80%\\n\\nSun Feb 23 Sun Mar 15 Sun Apr 5\\n-80%\\n\\n-40%\\n\\nBaseline\\n\\n+40%\\n\\n+80%\\n\\nSun Feb 23 Sun Mar 15 Sun Apr 5\\n-80%\\n\\n-40%\\n\\nBaseline\\n\\n+40%\\n\\n+80%\\n\\nSun Feb 23 Sun Mar 15 Sun Apr 5\\n-80%\\n\\n-40%\\n\\nBaseline\\n\\n+40%\\n\\n+80%\\n\\nSun Feb 23 Sun Mar 15 Sun Apr 5\\n-80%\\n\\n-40%\\n\\nBaseline\\n\\n+40%\\n\\n+80%\\n\\nSun Feb 23 Sun Mar 15 Sun Apr 5\\n-80%\\n\\n-40%\\n\\nBaseline\\n\\n+40%\\n\\n+80%\\n\\nSun Feb 23 Sun Mar 15 Sun Apr 5\\n-80%\\n\\n-40%\\n\\nBaseline\\n\\n+40%\\n\\n+80%\\n\\nSun Feb 23 Sun Mar 15 Sun Apr 5\\n-80%\\n\\n-40%\\n\\nBaseline\\n\\n+40%\\n\\n+80%\\n\\nSun Feb 23 Sun Mar 15 Sun Apr 5\\n-80%\\n\\n-40%\\n\\nBaseline\\n\\n+40%\\n\\n+80%\\n\\n\\n\\nAbout this data\\n\\nThese reports show how visits and length of\\nstay at different places change compared to\\na baseline. We calculate these changes using\\nthe same kind of aggregated and anonymized\\ndata used to show popular times for places in\\nGoogle Maps.\\n\\nChanges for each day are compared to a\\nbaseline value for that day of the week:\\n\\n●  The baseline is the median value, for the\\ncorresponding day of the week, during the 5-\\nweek period Jan 3–Feb 6, 2020.\\n\\n●  The reports show trends over several\\nweeks with the most recent data representing\\napproximately 2-3 days ago—this is how long\\nit takes to produce the reports.\\n\\nWhat data is included in the calculation\\ndepends on user settings, connectivity, and\\nwhether it meets our privacy threshold. If the\\nprivacy threshold isn’t met (when somewhere\\nisn’t busy enough to ensure anonymity) we\\ndon’t show a change for the day.\\n\\nWe include categories that are useful to\\nsocial distancing efforts as well as access to\\nessential services.\\n\\nWe calculate these insights based on data\\nfrom users who have opted-in to Location\\nHistory for their Google Account, so the data\\nrepresents a sample of our users. As with all\\nsamples, this may or may not represent the\\nexact behavior of a wider population.\\n\\nPreserving privacy\\n\\nThese reports were developed to be helpful\\nwhile adhering to our stringent privacy\\nprotocols and protecting people’s privacy. No\\npersonally identifiable information, like an\\nindividual’s location, contacts or movement, is\\nmade available at any point.\\n\\nInsights in these reports are created with\\naggregated, anonymized sets of data from\\nusers who have turned on the Location\\nHistory setting, which is off by default. People\\nwho have Location History turned on can\\nchoose to turn it off at any time from their\\nGoogle Account and can always delete\\nLocation History data directly from their\\nTimeline.\\n\\nThese reports are powered by the same\\nworld-class anonymization technology that\\nwe use in our products every day and that\\nkeep your activity data private and secure.\\nThese reports use differential privacy, which\\nadds artificial noise to our datasets enabling\\nhigh quality results without identifying any\\nindividual person. These privacy-preserving\\nprotections also ensure that the absolute\\nnumber of visits isn’t shared.\\n\\nTo get the latest report, visit\\ngoogle.com/covid19/mobility\\n\\nhttps://support.google.com/business/answer/6263531\\nhttps://support.google.com/accounts/answer/3118687\\nhttps://myaccount.google.com/activitycontrols\\nhttps://www.google.com/maps/timeline\\nhttps://www.youtube.com/watch?v=FfAdemDkLsc\\nhttps://google.com/covid19/mobility\\n\\n',\n",
              " 'metadata': {'Content-Type': 'application/pdf',\n",
              "  'X-Parsed-By': ['org.apache.tika.parser.DefaultParser',\n",
              "   'org.apache.tika.parser.pdf.PDFParser'],\n",
              "  'X-TIKA:content_handler': 'ToTextContentHandler',\n",
              "  'X-TIKA:embedded_depth': '0',\n",
              "  'X-TIKA:parse_time_millis': '2073',\n",
              "  'access_permission:assemble_document': 'true',\n",
              "  'access_permission:can_modify': 'true',\n",
              "  'access_permission:can_print': 'true',\n",
              "  'access_permission:can_print_degraded': 'true',\n",
              "  'access_permission:extract_content': 'true',\n",
              "  'access_permission:extract_for_accessibility': 'true',\n",
              "  'access_permission:fill_in_form': 'true',\n",
              "  'access_permission:modify_annotations': 'true',\n",
              "  'dc:format': 'application/pdf; version=1.5',\n",
              "  'pdf:PDFVersion': '1.5',\n",
              "  'pdf:charsPerPage': ['1430',\n",
              "   '436',\n",
              "   '1125',\n",
              "   '1124',\n",
              "   '1114',\n",
              "   '1112',\n",
              "   '1113',\n",
              "   '1117',\n",
              "   '1125',\n",
              "   '1108',\n",
              "   '1123',\n",
              "   '1128',\n",
              "   '1137',\n",
              "   '1124',\n",
              "   '2264'],\n",
              "  'pdf:docinfo:producer': 'Skia/PDF m84',\n",
              "  'pdf:encrypted': 'false',\n",
              "  'pdf:hasMarkedContent': 'false',\n",
              "  'pdf:hasXFA': 'false',\n",
              "  'pdf:hasXMP': 'false',\n",
              "  'pdf:unmappedUnicodeCharsPerPage': ['0',\n",
              "   '0',\n",
              "   '0',\n",
              "   '0',\n",
              "   '0',\n",
              "   '0',\n",
              "   '0',\n",
              "   '0',\n",
              "   '0',\n",
              "   '0',\n",
              "   '0',\n",
              "   '0',\n",
              "   '0',\n",
              "   '0',\n",
              "   '0'],\n",
              "  'producer': 'Skia/PDF m84',\n",
              "  'resourceName': \"b'2020-04-05_AR_Mobility_Report_en.pdf'\",\n",
              "  'xmpTPg:NPages': '15'},\n",
              " 'status': 200}"
            ]
          },
          "metadata": {
            "tags": []
          },
          "execution_count": 9
        }
      ]
    },
    {
      "cell_type": "code",
      "metadata": {
        "id": "5udImIv4yq_m",
        "colab_type": "code",
        "outputId": "82d8f931-463d-487e-ccda-2cc8b707987d",
        "colab": {
          "base_uri": "https://localhost:8080/",
          "height": 54
        }
      },
      "source": [
        "text=raw['content']\n",
        "text"
      ],
      "execution_count": 0,
      "outputs": [
        {
          "output_type": "execute_result",
          "data": {
            "text/plain": [
              "'\\n\\n\\n\\n\\n\\n\\n\\n\\n\\n\\n\\n\\n\\n\\n\\n\\n\\n\\n\\n\\n\\n\\n\\n\\n\\nCOVID-19 Community Mobility Report\\n\\nArgentina April 5, 2020\\n\\nMobility changes\\n\\nGoogle prepared this report to help you and public health officials understand responses to social\\ndistancing guidance related to COVID-19. This report shouldn’t be used for medical diagnostic,\\nprognostic, or treatment purposes. It also isn’t intended to be used for guidance on personal travel\\nplans.\\n\\nLocation accuracy and the understanding of categorized places varies from region to region, so we\\ndon’t recommend using this data to compare changes between countries, or between regions with\\ndifferent characteristics (e.g. rural versus urban areas).\\n\\nWe’ll leave a region out of the report if we don’t have statistically significant levels of data. To learn how\\nwe calculate these trends and preserve privacy, read About this data.\\n\\nRetail & recreation\\n\\n-83%\\ncompared to baseline\\n\\nSun Feb 23 Sun Mar 15 Sun Apr 5\\n-80%\\n\\n-40%\\n\\nBaseline\\n\\n+40%\\n\\n+80%\\nMobility trends for places like restaurants,\\ncafes, shopping centers, theme parks,\\nmuseums, libraries, and movie theaters.\\n\\nGrocery & pharmacy\\n\\n-54%\\ncompared to baseline\\n\\nSun Feb 23 Sun Mar 15 Sun Apr 5\\n-80%\\n\\n-40%\\n\\nBaseline\\n\\n+40%\\n\\n+80%\\nMobility trends for places like grocery\\nmarkets, food warehouses, farmers\\nmarkets, specialty food shops, drug stores,\\nand pharmacies.\\n\\nParks\\n\\n-87%\\ncompared to baseline\\n\\nSun Feb 23 Sun Mar 15 Sun Apr 5\\n-80%\\n\\n-40%\\n\\nBaseline\\n\\n+40%\\n\\n+80%\\nMobility trends for places like national parks,\\npublic beaches, marinas, dog parks, plazas,\\nand public gardens.\\n\\n\\n\\nTransit stations\\n\\n-76%\\ncompared to baseline\\n\\nSun Feb 23 Sun Mar 15 Sun Apr 5\\n-80%\\n\\n-40%\\n\\nBaseline\\n\\n+40%\\n\\n+80%\\nMobility trends for places like public transport\\nhubs such as subway, bus, and train stations.\\n\\nWorkplaces\\n\\n-52%\\ncompared to baseline\\n\\nSun Feb 23 Sun Mar 15 Sun Apr 5\\n-80%\\n\\n-40%\\n\\nBaseline\\n\\n+40%\\n\\n+80%\\nMobility trends for places of work.\\n\\nResidential\\n\\n+26%\\ncompared to baseline\\n\\nSun Feb 23 Sun Mar 15 Sun Apr 5\\n-80%\\n\\n-40%\\n\\nBaseline\\n\\n+40%\\n\\n+80%\\nMobility trends for places of residence.\\n\\n\\n\\nBuenos Aires\\n\\nRetail & recreation\\n\\n-88%  compared to baseline\\n\\nGrocery & pharmacy\\n\\n-44%  compared to baseline\\n\\nParks\\n\\n-89%  compared to baseline\\n\\nTransit stations\\n\\n-80%  compared to baseline\\n\\nWorkplace\\n\\n-66%  compared to baseline\\n\\nResidential\\n\\n+30%  compared to baseline\\n\\nBuenos Aires Province\\n\\nRetail & recreation\\n\\n-84%  compared to baseline\\n\\nGrocery & pharmacy\\n\\n-53%  compared to baseline\\n\\nParks\\n\\n-89%  compared to baseline\\n\\nTransit stations\\n\\n-73%  compared to baseline\\n\\nWorkplace\\n\\n-56%  compared to baseline\\n\\nResidential\\n\\n+25%  compared to baseline\\n\\nSun Feb 23 Sun Mar 15 Sun Apr 5\\n-80%\\n\\n-40%\\n\\nBaseline\\n\\n+40%\\n\\n+80%\\n\\nSun Feb 23 Sun Mar 15 Sun Apr 5\\n-80%\\n\\n-40%\\n\\nBaseline\\n\\n+40%\\n\\n+80%\\n\\nSun Feb 23 Sun Mar 15 Sun Apr 5\\n-80%\\n\\n-40%\\n\\nBaseline\\n\\n+40%\\n\\n+80%\\n\\nSun Feb 23 Sun Mar 15 Sun Apr 5\\n-80%\\n\\n-40%\\n\\nBaseline\\n\\n+40%\\n\\n+80%\\n\\nSun Feb 23 Sun Mar 15 Sun Apr 5\\n-80%\\n\\n-40%\\n\\nBaseline\\n\\n+40%\\n\\n+80%\\n\\nSun Feb 23 Sun Mar 15 Sun Apr 5\\n-80%\\n\\n-40%\\n\\nBaseline\\n\\n+40%\\n\\n+80%\\n\\nSun Feb 23 Sun Mar 15 Sun Apr 5\\n-80%\\n\\n-40%\\n\\nBaseline\\n\\n+40%\\n\\n+80%\\n\\nSun Feb 23 Sun Mar 15 Sun Apr 5\\n-80%\\n\\n-40%\\n\\nBaseline\\n\\n+40%\\n\\n+80%\\n\\nSun Feb 23 Sun Mar 15 Sun Apr 5\\n-80%\\n\\n-40%\\n\\nBaseline\\n\\n+40%\\n\\n+80%\\n\\nSun Feb 23 Sun Mar 15 Sun Apr 5\\n-80%\\n\\n-40%\\n\\nBaseline\\n\\n+40%\\n\\n+80%\\n\\nSun Feb 23 Sun Mar 15 Sun Apr 5\\n-80%\\n\\n-40%\\n\\nBaseline\\n\\n+40%\\n\\n+80%\\n\\nSun Feb 23 Sun Mar 15 Sun Apr 5\\n-80%\\n\\n-40%\\n\\nBaseline\\n\\n+40%\\n\\n+80%\\n\\n\\n\\nCatamarca Province\\n\\nRetail & recreation\\n\\n-66%  compared to baseline\\n\\nGrocery & pharmacy\\n\\n-33%  compared to baseline\\n\\nParks\\n\\n-74%  compared to baseline\\n\\nTransit stations\\n\\n-79%  compared to baseline\\n\\nWorkplace\\n\\n-29%  compared to baseline\\n\\nResidential\\n\\n+27%  compared to baseline\\n\\nChaco Province\\n\\nRetail & recreation\\n\\n-72%  compared to baseline\\n\\nGrocery & pharmacy\\n\\n-51%  compared to baseline\\n\\nParks\\n\\n-77%  compared to baseline\\n\\nTransit stations\\n\\n-90%  compared to baseline\\n\\nWorkplace\\n\\n-40%  compared to baseline\\n\\nResidential\\n\\n+21%  compared to baseline\\n\\nSun Feb 23 Sun Mar 15 Sun Apr 5\\n-80%\\n\\n-40%\\n\\nBaseline\\n\\n+40%\\n\\n+80%\\n\\nSun Feb 23 Sun Mar 15 Sun Apr 5\\n-80%\\n\\n-40%\\n\\nBaseline\\n\\n+40%\\n\\n+80%\\n\\nSun Feb 23 Sun Mar 15 Sun Apr 5\\n-80%\\n\\n-40%\\n\\nBaseline\\n\\n+40%\\n\\n+80%\\n\\nSun Feb 23 Sun Mar 15 Sun Apr 5\\n-80%\\n\\n-40%\\n\\nBaseline\\n\\n+40%\\n\\n+80%\\n\\nSun Feb 23 Sun Mar 15 Sun Apr 5\\n-80%\\n\\n-40%\\n\\nBaseline\\n\\n+40%\\n\\n+80%\\n\\nSun Feb 23 Sun Mar 15 Sun Apr 5\\n-80%\\n\\n-40%\\n\\nBaseline\\n\\n+40%\\n\\n+80%\\n\\nSun Feb 23 Sun Mar 15 Sun Apr 5\\n-80%\\n\\n-40%\\n\\nBaseline\\n\\n+40%\\n\\n+80%\\n\\nSun Feb 23 Sun Mar 15 Sun Apr 5\\n-80%\\n\\n-40%\\n\\nBaseline\\n\\n+40%\\n\\n+80%\\n\\nSun Feb 23 Sun Mar 15 Sun Apr 5\\n-80%\\n\\n-40%\\n\\nBaseline\\n\\n+40%\\n\\n+80%\\n\\nSun Feb 23 Sun Mar 15 Sun Apr 5\\n-80%\\n\\n-40%\\n\\nBaseline\\n\\n+40%\\n\\n+80%\\n\\nSun Feb 23 Sun Mar 15 Sun Apr 5\\n-80%\\n\\n-40%\\n\\nBaseline\\n\\n+40%\\n\\n+80%\\n\\nSun Feb 23 Sun Mar 15 Sun Apr 5\\n-80%\\n\\n-40%\\n\\nBaseline\\n\\n+40%\\n\\n+80%\\n\\n\\n\\nChubut Province\\n\\nRetail & recreation\\n\\n-86%  compared to baseline\\n\\nGrocery & pharmacy\\n\\n-59%  compared to baseline\\n\\nParks\\n\\n-92%  compared to baseline\\n\\nTransit stations\\n\\n-87%  compared to baseline\\n\\nWorkplace\\n\\n-51%  compared to baseline\\n\\nResidential\\n\\n+25%  compared to baseline\\n\\nCordoba\\n\\nRetail & recreation\\n\\n-85%  compared to baseline\\n\\nGrocery & pharmacy\\n\\n-60%  compared to baseline\\n\\nParks\\n\\n-88%  compared to baseline\\n\\nTransit stations\\n\\n-89%  compared to baseline\\n\\nWorkplace\\n\\n-52%  compared to baseline\\n\\nResidential\\n\\n+29%  compared to baseline\\n\\nSun Feb 23 Sun Mar 15 Sun Apr 5\\n-80%\\n\\n-40%\\n\\nBaseline\\n\\n+40%\\n\\n+80%\\n\\nSun Feb 23 Sun Mar 15 Sun Apr 5\\n-80%\\n\\n-40%\\n\\nBaseline\\n\\n+40%\\n\\n+80%\\n\\nSun Feb 23 Sun Mar 15 Sun Apr 5\\n-80%\\n\\n-40%\\n\\nBaseline\\n\\n+40%\\n\\n+80%\\n\\nSun Feb 23 Sun Mar 15 Sun Apr 5\\n-80%\\n\\n-40%\\n\\nBaseline\\n\\n+40%\\n\\n+80%\\n\\nSun Feb 23 Sun Mar 15 Sun Apr 5\\n-80%\\n\\n-40%\\n\\nBaseline\\n\\n+40%\\n\\n+80%\\n\\nSun Feb 23 Sun Mar 15 Sun Apr 5\\n-80%\\n\\n-40%\\n\\nBaseline\\n\\n+40%\\n\\n+80%\\n\\nSun Feb 23 Sun Mar 15 Sun Apr 5\\n-80%\\n\\n-40%\\n\\nBaseline\\n\\n+40%\\n\\n+80%\\n\\nSun Feb 23 Sun Mar 15 Sun Apr 5\\n-80%\\n\\n-40%\\n\\nBaseline\\n\\n+40%\\n\\n+80%\\n\\nSun Feb 23 Sun Mar 15 Sun Apr 5\\n-80%\\n\\n-40%\\n\\nBaseline\\n\\n+40%\\n\\n+80%\\n\\nSun Feb 23 Sun Mar 15 Sun Apr 5\\n-80%\\n\\n-40%\\n\\nBaseline\\n\\n+40%\\n\\n+80%\\n\\nSun Feb 23 Sun Mar 15 Sun Apr 5\\n-80%\\n\\n-40%\\n\\nBaseline\\n\\n+40%\\n\\n+80%\\n\\nSun Feb 23 Sun Mar 15 Sun Apr 5\\n-80%\\n\\n-40%\\n\\nBaseline\\n\\n+40%\\n\\n+80%\\n\\n\\n\\nCorrientes\\n\\nRetail & recreation\\n\\n-76%  compared to baseline\\n\\nGrocery & pharmacy\\n\\n-56%  compared to baseline\\n\\nParks\\n\\n-86%  compared to baseline\\n\\nTransit stations\\n\\n-88%  compared to baseline\\n\\nWorkplace\\n\\n-39%  compared to baseline\\n\\nResidential\\n\\n+23%  compared to baseline\\n\\nEntre Rios\\n\\nRetail & recreation\\n\\n-83%  compared to baseline\\n\\nGrocery & pharmacy\\n\\n-57%  compared to baseline\\n\\nParks\\n\\n-91%  compared to baseline\\n\\nTransit stations\\n\\n-82%  compared to baseline\\n\\nWorkplace\\n\\n-46%  compared to baseline\\n\\nResidential\\n\\n+27%  compared to baseline\\n\\nSun Feb 23 Sun Mar 15 Sun Apr 5\\n-80%\\n\\n-40%\\n\\nBaseline\\n\\n+40%\\n\\n+80%\\n\\nSun Feb 23 Sun Mar 15 Sun Apr 5\\n-80%\\n\\n-40%\\n\\nBaseline\\n\\n+40%\\n\\n+80%\\n\\nSun Feb 23 Sun Mar 15 Sun Apr 5\\n-80%\\n\\n-40%\\n\\nBaseline\\n\\n+40%\\n\\n+80%\\n\\nSun Feb 23 Sun Mar 15 Sun Apr 5\\n-80%\\n\\n-40%\\n\\nBaseline\\n\\n+40%\\n\\n+80%\\n\\nSun Feb 23 Sun Mar 15 Sun Apr 5\\n-80%\\n\\n-40%\\n\\nBaseline\\n\\n+40%\\n\\n+80%\\n\\nSun Feb 23 Sun Mar 15 Sun Apr 5\\n-80%\\n\\n-40%\\n\\nBaseline\\n\\n+40%\\n\\n+80%\\n\\nSun Feb 23 Sun Mar 15 Sun Apr 5\\n-80%\\n\\n-40%\\n\\nBaseline\\n\\n+40%\\n\\n+80%\\n\\nSun Feb 23 Sun Mar 15 Sun Apr 5\\n-80%\\n\\n-40%\\n\\nBaseline\\n\\n+40%\\n\\n+80%\\n\\nSun Feb 23 Sun Mar 15 Sun Apr 5\\n-80%\\n\\n-40%\\n\\nBaseline\\n\\n+40%\\n\\n+80%\\n\\nSun Feb 23 Sun Mar 15 Sun Apr 5\\n-80%\\n\\n-40%\\n\\nBaseline\\n\\n+40%\\n\\n+80%\\n\\nSun Feb 23 Sun Mar 15 Sun Apr 5\\n-80%\\n\\n-40%\\n\\nBaseline\\n\\n+40%\\n\\n+80%\\n\\nSun Feb 23 Sun Mar 15 Sun Apr 5\\n-80%\\n\\n-40%\\n\\nBaseline\\n\\n+40%\\n\\n+80%\\n\\n\\n\\nFormosa Province\\n\\nRetail & recreation\\n\\n-69%  compared to baseline\\n\\nGrocery & pharmacy\\n\\n-40%  compared to baseline\\n\\nParks\\n\\n-78%  compared to baseline\\n\\nTransit stations\\n\\n-63%  compared to baseline\\n\\nWorkplace\\n\\n-30%  compared to baseline\\n\\nResidential\\n\\n+18%  compared to baseline\\n\\nJujuy\\n\\nRetail & recreation\\n\\n-73%  compared to baseline\\n\\nGrocery & pharmacy\\n\\n-40%  compared to baseline\\n\\nParks\\n\\n-78%  compared to baseline\\n\\nTransit stations\\n\\n-89%  compared to baseline\\n\\nWorkplace\\n\\n-36%  compared to baseline\\n\\nResidential\\n\\n+23%  compared to baseline\\n\\nSun Feb 23 Sun Mar 15 Sun Apr 5\\n-80%\\n\\n-40%\\n\\nBaseline\\n\\n+40%\\n\\n+80%\\n\\nSun Feb 23 Sun Mar 15 Sun Apr 5\\n-80%\\n\\n-40%\\n\\nBaseline\\n\\n+40%\\n\\n+80%\\n\\nSun Feb 23 Sun Mar 15 Sun Apr 5\\n-80%\\n\\n-40%\\n\\nBaseline\\n\\n+40%\\n\\n+80%\\n\\nSun Feb 23 Sun Mar 15 Sun Apr 5\\n-80%\\n\\n-40%\\n\\nBaseline\\n\\n+40%\\n\\n+80%\\n\\nSun Feb 23 Sun Mar 15 Sun Apr 5\\n-80%\\n\\n-40%\\n\\nBaseline\\n\\n+40%\\n\\n+80%\\n\\nSun Feb 23 Sun Mar 15 Sun Apr 5\\n-80%\\n\\n-40%\\n\\nBaseline\\n\\n+40%\\n\\n+80%\\n\\nSun Feb 23 Sun Mar 15 Sun Apr 5\\n-80%\\n\\n-40%\\n\\nBaseline\\n\\n+40%\\n\\n+80%\\n\\nSun Feb 23 Sun Mar 15 Sun Apr 5\\n-80%\\n\\n-40%\\n\\nBaseline\\n\\n+40%\\n\\n+80%\\n\\nSun Feb 23 Sun Mar 15 Sun Apr 5\\n-80%\\n\\n-40%\\n\\nBaseline\\n\\n+40%\\n\\n+80%\\n\\nSun Feb 23 Sun Mar 15 Sun Apr 5\\n-80%\\n\\n-40%\\n\\nBaseline\\n\\n+40%\\n\\n+80%\\n\\nSun Feb 23 Sun Mar 15 Sun Apr 5\\n-80%\\n\\n-40%\\n\\nBaseline\\n\\n+40%\\n\\n+80%\\n\\nSun Feb 23 Sun Mar 15 Sun Apr 5\\n-80%\\n\\n-40%\\n\\nBaseline\\n\\n+40%\\n\\n+80%\\n\\n\\n\\nLa Pampa\\n\\nRetail & recreation\\n\\n-83%  compared to baseline\\n\\nGrocery & pharmacy\\n\\n-64%  compared to baseline\\n\\nParks\\n\\n-86%  compared to baseline\\n\\nTransit stations\\n\\n-82%  compared to baseline\\n\\nWorkplace\\n\\n-50%  compared to baseline\\n\\nResidential\\n\\n+26%  compared to baseline\\n\\nLa Rioja Province\\n\\nRetail & recreation\\n\\n-64%  compared to baseline\\n\\nGrocery & pharmacy\\n\\n-52%  compared to baseline\\n\\nParks\\n\\n-78%  compared to baseline\\n\\nTransit stations\\n\\n-83%  compared to baseline\\n\\nWorkplace\\n\\n-39%  compared to baseline\\n\\nResidential\\n\\n+24%  compared to baseline\\n\\nSun Feb 23 Sun Mar 15 Sun Apr 5\\n-80%\\n\\n-40%\\n\\nBaseline\\n\\n+40%\\n\\n+80%\\n\\nSun Feb 23 Sun Mar 15 Sun Apr 5\\n-80%\\n\\n-40%\\n\\nBaseline\\n\\n+40%\\n\\n+80%\\n\\nSun Feb 23 Sun Mar 15 Sun Apr 5\\n-80%\\n\\n-40%\\n\\nBaseline\\n\\n+40%\\n\\n+80%\\n\\nSun Feb 23 Sun Mar 15 Sun Apr 5\\n-80%\\n\\n-40%\\n\\nBaseline\\n\\n+40%\\n\\n+80%\\n\\nSun Feb 23 Sun Mar 15 Sun Apr 5\\n-80%\\n\\n-40%\\n\\nBaseline\\n\\n+40%\\n\\n+80%\\n\\nSun Feb 23 Sun Mar 15 Sun Apr 5\\n-80%\\n\\n-40%\\n\\nBaseline\\n\\n+40%\\n\\n+80%\\n\\nSun Feb 23 Sun Mar 15 Sun Apr 5\\n-80%\\n\\n-40%\\n\\nBaseline\\n\\n+40%\\n\\n+80%\\n\\nSun Feb 23 Sun Mar 15 Sun Apr 5\\n-80%\\n\\n-40%\\n\\nBaseline\\n\\n+40%\\n\\n+80%\\n\\nSun Feb 23 Sun Mar 15 Sun Apr 5\\n-80%\\n\\n-40%\\n\\nBaseline\\n\\n+40%\\n\\n+80%\\n\\nSun Feb 23 Sun Mar 15 Sun Apr 5\\n-80%\\n\\n-40%\\n\\nBaseline\\n\\n+40%\\n\\n+80%\\n\\nSun Feb 23 Sun Mar 15 Sun Apr 5\\n-80%\\n\\n-40%\\n\\nBaseline\\n\\n+40%\\n\\n+80%\\n\\nSun Feb 23 Sun Mar 15 Sun Apr 5\\n-80%\\n\\n-40%\\n\\nBaseline\\n\\n+40%\\n\\n+80%\\n\\n\\n\\nMendoza Province\\n\\nRetail & recreation\\n\\n-78%  compared to baseline\\n\\nGrocery & pharmacy\\n\\n-50%  compared to baseline\\n\\nParks\\n\\n-81%  compared to baseline\\n\\nTransit stations\\n\\n-69%  compared to baseline\\n\\nWorkplace\\n\\n-45%  compared to baseline\\n\\nResidential\\n\\n+27%  compared to baseline\\n\\nMisiones Province\\n\\nRetail & recreation\\n\\n-75%  compared to baseline\\n\\nGrocery & pharmacy\\n\\n-52%  compared to baseline\\n\\nParks\\n\\n-80%  compared to baseline\\n\\nTransit stations\\n\\n-91%  compared to baseline\\n\\nWorkplace\\n\\n-42%  compared to baseline\\n\\nResidential\\n\\n+24%  compared to baseline\\n\\nSun Feb 23 Sun Mar 15 Sun Apr 5\\n-80%\\n\\n-40%\\n\\nBaseline\\n\\n+40%\\n\\n+80%\\n\\nSun Feb 23 Sun Mar 15 Sun Apr 5\\n-80%\\n\\n-40%\\n\\nBaseline\\n\\n+40%\\n\\n+80%\\n\\nSun Feb 23 Sun Mar 15 Sun Apr 5\\n-80%\\n\\n-40%\\n\\nBaseline\\n\\n+40%\\n\\n+80%\\n\\nSun Feb 23 Sun Mar 15 Sun Apr 5\\n-80%\\n\\n-40%\\n\\nBaseline\\n\\n+40%\\n\\n+80%\\n\\nSun Feb 23 Sun Mar 15 Sun Apr 5\\n-80%\\n\\n-40%\\n\\nBaseline\\n\\n+40%\\n\\n+80%\\n\\nSun Feb 23 Sun Mar 15 Sun Apr 5\\n-80%\\n\\n-40%\\n\\nBaseline\\n\\n+40%\\n\\n+80%\\n\\nSun Feb 23 Sun Mar 15 Sun Apr 5\\n-80%\\n\\n-40%\\n\\nBaseline\\n\\n+40%\\n\\n+80%\\n\\nSun Feb 23 Sun Mar 15 Sun Apr 5\\n-80%\\n\\n-40%\\n\\nBaseline\\n\\n+40%\\n\\n+80%\\n\\nSun Feb 23 Sun Mar 15 Sun Apr 5\\n-80%\\n\\n-40%\\n\\nBaseline\\n\\n+40%\\n\\n+80%\\n\\nSun Feb 23 Sun Mar 15 Sun Apr 5\\n-80%\\n\\n-40%\\n\\nBaseline\\n\\n+40%\\n\\n+80%\\n\\nSun Feb 23 Sun Mar 15 Sun Apr 5\\n-80%\\n\\n-40%\\n\\nBaseline\\n\\n+40%\\n\\n+80%\\n\\nSun Feb 23 Sun Mar 15 Sun Apr 5\\n-80%\\n\\n-40%\\n\\nBaseline\\n\\n+40%\\n\\n+80%\\n\\n\\n\\nNeuquen\\n\\nRetail & recreation\\n\\n-96%  compared to baseline\\n\\nGrocery & pharmacy\\n\\n-94%  compared to baseline\\n\\nParks\\n\\n-95%  compared to baseline\\n\\nTransit stations\\n\\n-89%  compared to baseline\\n\\nWorkplace\\n\\n-69%  compared to baseline\\n\\nResidential\\n\\n+32%  compared to baseline\\n\\nRío Negro\\n\\nRetail & recreation\\n\\n-88%  compared to baseline\\n\\nGrocery & pharmacy\\n\\n-66%  compared to baseline\\n\\nParks\\n\\n-90%  compared to baseline\\n\\nTransit stations\\n\\n-96%  compared to baseline\\n\\nWorkplace\\n\\n-51%  compared to baseline\\n\\nResidential\\n\\n+27%  compared to baseline\\n\\nSun Feb 23 Sun Mar 15 Sun Apr 5\\n-80%\\n\\n-40%\\n\\nBaseline\\n\\n+40%\\n\\n+80%\\n\\nSun Feb 23 Sun Mar 15 Sun Apr 5\\n-80%\\n\\n-40%\\n\\nBaseline\\n\\n+40%\\n\\n+80%\\n\\nSun Feb 23 Sun Mar 15 Sun Apr 5\\n-80%\\n\\n-40%\\n\\nBaseline\\n\\n+40%\\n\\n+80%\\n\\nSun Feb 23 Sun Mar 15 Sun Apr 5\\n-80%\\n\\n-40%\\n\\nBaseline\\n\\n+40%\\n\\n+80%\\n\\nSun Feb 23 Sun Mar 15 Sun Apr 5\\n-80%\\n\\n-40%\\n\\nBaseline\\n\\n+40%\\n\\n+80%\\n\\nSun Feb 23 Sun Mar 15 Sun Apr 5\\n-80%\\n\\n-40%\\n\\nBaseline\\n\\n+40%\\n\\n+80%\\n\\nSun Feb 23 Sun Mar 15 Sun Apr 5\\n-80%\\n\\n-40%\\n\\nBaseline\\n\\n+40%\\n\\n+80%\\n\\nSun Feb 23 Sun Mar 15 Sun Apr 5\\n-80%\\n\\n-40%\\n\\nBaseline\\n\\n+40%\\n\\n+80%\\n\\nSun Feb 23 Sun Mar 15 Sun Apr 5\\n-80%\\n\\n-40%\\n\\nBaseline\\n\\n+40%\\n\\n+80%\\n\\nSun Feb 23 Sun Mar 15 Sun Apr 5\\n-80%\\n\\n-40%\\n\\nBaseline\\n\\n+40%\\n\\n+80%\\n\\nSun Feb 23 Sun Mar 15 Sun Apr 5\\n-80%\\n\\n-40%\\n\\nBaseline\\n\\n+40%\\n\\n+80%\\n\\nSun Feb 23 Sun Mar 15 Sun Apr 5\\n-80%\\n\\n-40%\\n\\nBaseline\\n\\n+40%\\n\\n+80%\\n\\n\\n\\nSalta Province\\n\\nRetail & recreation\\n\\n-77%  compared to baseline\\n\\nGrocery & pharmacy\\n\\n-43%  compared to baseline\\n\\nParks\\n\\n-80%  compared to baseline\\n\\nTransit stations\\n\\n-67%  compared to baseline\\n\\nWorkplace\\n\\n-40%  compared to baseline\\n\\nResidential\\n\\n+24%  compared to baseline\\n\\nSan Juan Province\\n\\nRetail & recreation\\n\\n-71%  compared to baseline\\n\\nGrocery & pharmacy\\n\\n-42%  compared to baseline\\n\\nParks\\n\\n-76%  compared to baseline\\n\\nTransit stations\\n\\n-85%  compared to baseline\\n\\nWorkplace\\n\\n-39%  compared to baseline\\n\\nResidential\\n\\n+25%  compared to baseline\\n\\nSun Feb 23 Sun Mar 15 Sun Apr 5\\n-80%\\n\\n-40%\\n\\nBaseline\\n\\n+40%\\n\\n+80%\\n\\nSun Feb 23 Sun Mar 15 Sun Apr 5\\n-80%\\n\\n-40%\\n\\nBaseline\\n\\n+40%\\n\\n+80%\\n\\nSun Feb 23 Sun Mar 15 Sun Apr 5\\n-80%\\n\\n-40%\\n\\nBaseline\\n\\n+40%\\n\\n+80%\\n\\nSun Feb 23 Sun Mar 15 Sun Apr 5\\n-80%\\n\\n-40%\\n\\nBaseline\\n\\n+40%\\n\\n+80%\\n\\nSun Feb 23 Sun Mar 15 Sun Apr 5\\n-80%\\n\\n-40%\\n\\nBaseline\\n\\n+40%\\n\\n+80%\\n\\nSun Feb 23 Sun Mar 15 Sun Apr 5\\n-80%\\n\\n-40%\\n\\nBaseline\\n\\n+40%\\n\\n+80%\\n\\nSun Feb 23 Sun Mar 15 Sun Apr 5\\n-80%\\n\\n-40%\\n\\nBaseline\\n\\n+40%\\n\\n+80%\\n\\nSun Feb 23 Sun Mar 15 Sun Apr 5\\n-80%\\n\\n-40%\\n\\nBaseline\\n\\n+40%\\n\\n+80%\\n\\nSun Feb 23 Sun Mar 15 Sun Apr 5\\n-80%\\n\\n-40%\\n\\nBaseline\\n\\n+40%\\n\\n+80%\\n\\nSun Feb 23 Sun Mar 15 Sun Apr 5\\n-80%\\n\\n-40%\\n\\nBaseline\\n\\n+40%\\n\\n+80%\\n\\nSun Feb 23 Sun Mar 15 Sun Apr 5\\n-80%\\n\\n-40%\\n\\nBaseline\\n\\n+40%\\n\\n+80%\\n\\nSun Feb 23 Sun Mar 15 Sun Apr 5\\n-80%\\n\\n-40%\\n\\nBaseline\\n\\n+40%\\n\\n+80%\\n\\n\\n\\nSan Luis Province\\n\\nRetail & recreation\\n\\n-82%  compared to baseline\\n\\nGrocery & pharmacy\\n\\n-57%  compared to baseline\\n\\nParks\\n\\n-88%  compared to baseline\\n\\nTransit stations\\n\\n-91%  compared to baseline\\n\\nWorkplace\\n\\n-49%  compared to baseline\\n\\nResidential\\n\\n+28%  compared to baseline\\n\\nSanta Cruz Province\\n\\nRetail & recreation\\n\\n-80%  compared to baseline\\n\\nGrocery & pharmacy\\n\\n-66%  compared to baseline\\n\\nParks\\n\\n-87%  compared to baseline\\n\\nTransit stations\\n\\n-85%  compared to baseline\\n\\nWorkplace\\n\\n-53%  compared to baseline\\n\\nResidential\\n\\n+23%  compared to baseline\\n\\nSun Feb 23 Sun Mar 15 Sun Apr 5\\n-80%\\n\\n-40%\\n\\nBaseline\\n\\n+40%\\n\\n+80%\\n\\nSun Feb 23 Sun Mar 15 Sun Apr 5\\n-80%\\n\\n-40%\\n\\nBaseline\\n\\n+40%\\n\\n+80%\\n\\nSun Feb 23 Sun Mar 15 Sun Apr 5\\n-80%\\n\\n-40%\\n\\nBaseline\\n\\n+40%\\n\\n+80%\\n\\nSun Feb 23 Sun Mar 15 Sun Apr 5\\n-80%\\n\\n-40%\\n\\nBaseline\\n\\n+40%\\n\\n+80%\\n\\nSun Feb 23 Sun Mar 15 Sun Apr 5\\n-80%\\n\\n-40%\\n\\nBaseline\\n\\n+40%\\n\\n+80%\\n\\nSun Feb 23 Sun Mar 15 Sun Apr 5\\n-80%\\n\\n-40%\\n\\nBaseline\\n\\n+40%\\n\\n+80%\\n\\nSun Feb 23 Sun Mar 15 Sun Apr 5\\n-80%\\n\\n-40%\\n\\nBaseline\\n\\n+40%\\n\\n+80%\\n\\nSun Feb 23 Sun Mar 15 Sun Apr 5\\n-80%\\n\\n-40%\\n\\nBaseline\\n\\n+40%\\n\\n+80%\\n\\nSun Feb 23 Sun Mar 15 Sun Apr 5\\n-80%\\n\\n-40%\\n\\nBaseline\\n\\n+40%\\n\\n+80%\\n\\nSun Feb 23 Sun Mar 15 Sun Apr 5\\n-80%\\n\\n-40%\\n\\nBaseline\\n\\n+40%\\n\\n+80%\\n\\nSun Feb 23 Sun Mar 15 Sun Apr 5\\n-80%\\n\\n-40%\\n\\nBaseline\\n\\n+40%\\n\\n+80%\\n\\nSun Feb 23 Sun Mar 15 Sun Apr 5\\n-80%\\n\\n-40%\\n\\nBaseline\\n\\n+40%\\n\\n+80%\\n\\n\\n\\nSanta Fe Province\\n\\nRetail & recreation\\n\\n-83%  compared to baseline\\n\\nGrocery & pharmacy\\n\\n-56%  compared to baseline\\n\\nParks\\n\\n-87%  compared to baseline\\n\\nTransit stations\\n\\n-70%  compared to baseline\\n\\nWorkplace\\n\\n-52%  compared to baseline\\n\\nResidential\\n\\n+27%  compared to baseline\\n\\nSantiago del Estero Province\\n\\nRetail & recreation\\n\\n-72%  compared to baseline\\n\\nGrocery & pharmacy\\n\\n-44%  compared to baseline\\n\\nParks\\n\\n-71%  compared to baseline\\n\\nTransit stations\\n\\n-87%  compared to baseline\\n\\nWorkplace\\n\\n-40%  compared to baseline\\n\\nResidential\\n\\n+23%  compared to baseline\\n\\nSun Feb 23 Sun Mar 15 Sun Apr 5\\n-80%\\n\\n-40%\\n\\nBaseline\\n\\n+40%\\n\\n+80%\\n\\nSun Feb 23 Sun Mar 15 Sun Apr 5\\n-80%\\n\\n-40%\\n\\nBaseline\\n\\n+40%\\n\\n+80%\\n\\nSun Feb 23 Sun Mar 15 Sun Apr 5\\n-80%\\n\\n-40%\\n\\nBaseline\\n\\n+40%\\n\\n+80%\\n\\nSun Feb 23 Sun Mar 15 Sun Apr 5\\n-80%\\n\\n-40%\\n\\nBaseline\\n\\n+40%\\n\\n+80%\\n\\nSun Feb 23 Sun Mar 15 Sun Apr 5\\n-80%\\n\\n-40%\\n\\nBaseline\\n\\n+40%\\n\\n+80%\\n\\nSun Feb 23 Sun Mar 15 Sun Apr 5\\n-80%\\n\\n-40%\\n\\nBaseline\\n\\n+40%\\n\\n+80%\\n\\nSun Feb 23 Sun Mar 15 Sun Apr 5\\n-80%\\n\\n-40%\\n\\nBaseline\\n\\n+40%\\n\\n+80%\\n\\nSun Feb 23 Sun Mar 15 Sun Apr 5\\n-80%\\n\\n-40%\\n\\nBaseline\\n\\n+40%\\n\\n+80%\\n\\nSun Feb 23 Sun Mar 15 Sun Apr 5\\n-80%\\n\\n-40%\\n\\nBaseline\\n\\n+40%\\n\\n+80%\\n\\nSun Feb 23 Sun Mar 15 Sun Apr 5\\n-80%\\n\\n-40%\\n\\nBaseline\\n\\n+40%\\n\\n+80%\\n\\nSun Feb 23 Sun Mar 15 Sun Apr 5\\n-80%\\n\\n-40%\\n\\nBaseline\\n\\n+40%\\n\\n+80%\\n\\nSun Feb 23 Sun Mar 15 Sun Apr 5\\n-80%\\n\\n-40%\\n\\nBaseline\\n\\n+40%\\n\\n+80%\\n\\n\\n\\nTierra del Fuego Province\\n\\nRetail & recreation\\n\\n-86%  compared to baseline\\n\\nGrocery & pharmacy\\n\\n-62%  compared to baseline\\n\\nParks\\n\\n-89%  compared to baseline\\n\\nTransit stations\\n\\n-93%  compared to baseline\\n\\nWorkplace\\n\\n-59%  compared to baseline\\n\\nResidential\\n\\n+24%  compared to baseline\\n\\nTucumán\\n\\nRetail & recreation\\n\\n-76%  compared to baseline\\n\\nGrocery & pharmacy\\n\\n-43%  compared to baseline\\n\\nParks\\n\\n-72%  compared to baseline\\n\\nTransit stations\\n\\n-86%  compared to baseline\\n\\nWorkplace\\n\\n-43%  compared to baseline\\n\\nResidential\\n\\n+25%  compared to baseline\\n\\nSun Feb 23 Sun Mar 15 Sun Apr 5\\n-80%\\n\\n-40%\\n\\nBaseline\\n\\n+40%\\n\\n+80%\\n\\nSun Feb 23 Sun Mar 15 Sun Apr 5\\n-80%\\n\\n-40%\\n\\nBaseline\\n\\n+40%\\n\\n+80%\\n\\nSun Feb 23 Sun Mar 15 Sun Apr 5\\n-80%\\n\\n-40%\\n\\nBaseline\\n\\n+40%\\n\\n+80%\\n\\nSun Feb 23 Sun Mar 15 Sun Apr 5\\n-80%\\n\\n-40%\\n\\nBaseline\\n\\n+40%\\n\\n+80%\\n\\nSun Feb 23 Sun Mar 15 Sun Apr 5\\n-80%\\n\\n-40%\\n\\nBaseline\\n\\n+40%\\n\\n+80%\\n\\nSun Feb 23 Sun Mar 15 Sun Apr 5\\n-80%\\n\\n-40%\\n\\nBaseline\\n\\n+40%\\n\\n+80%\\n\\nSun Feb 23 Sun Mar 15 Sun Apr 5\\n-80%\\n\\n-40%\\n\\nBaseline\\n\\n+40%\\n\\n+80%\\n\\nSun Feb 23 Sun Mar 15 Sun Apr 5\\n-80%\\n\\n-40%\\n\\nBaseline\\n\\n+40%\\n\\n+80%\\n\\nSun Feb 23 Sun Mar 15 Sun Apr 5\\n-80%\\n\\n-40%\\n\\nBaseline\\n\\n+40%\\n\\n+80%\\n\\nSun Feb 23 Sun Mar 15 Sun Apr 5\\n-80%\\n\\n-40%\\n\\nBaseline\\n\\n+40%\\n\\n+80%\\n\\nSun Feb 23 Sun Mar 15 Sun Apr 5\\n-80%\\n\\n-40%\\n\\nBaseline\\n\\n+40%\\n\\n+80%\\n\\nSun Feb 23 Sun Mar 15 Sun Apr 5\\n-80%\\n\\n-40%\\n\\nBaseline\\n\\n+40%\\n\\n+80%\\n\\n\\n\\nAbout this data\\n\\nThese reports show how visits and length of\\nstay at different places change compared to\\na baseline. We calculate these changes using\\nthe same kind of aggregated and anonymized\\ndata used to show popular times for places in\\nGoogle Maps.\\n\\nChanges for each day are compared to a\\nbaseline value for that day of the week:\\n\\n●  The baseline is the median value, for the\\ncorresponding day of the week, during the 5-\\nweek period Jan 3–Feb 6, 2020.\\n\\n●  The reports show trends over several\\nweeks with the most recent data representing\\napproximately 2-3 days ago—this is how long\\nit takes to produce the reports.\\n\\nWhat data is included in the calculation\\ndepends on user settings, connectivity, and\\nwhether it meets our privacy threshold. If the\\nprivacy threshold isn’t met (when somewhere\\nisn’t busy enough to ensure anonymity) we\\ndon’t show a change for the day.\\n\\nWe include categories that are useful to\\nsocial distancing efforts as well as access to\\nessential services.\\n\\nWe calculate these insights based on data\\nfrom users who have opted-in to Location\\nHistory for their Google Account, so the data\\nrepresents a sample of our users. As with all\\nsamples, this may or may not represent the\\nexact behavior of a wider population.\\n\\nPreserving privacy\\n\\nThese reports were developed to be helpful\\nwhile adhering to our stringent privacy\\nprotocols and protecting people’s privacy. No\\npersonally identifiable information, like an\\nindividual’s location, contacts or movement, is\\nmade available at any point.\\n\\nInsights in these reports are created with\\naggregated, anonymized sets of data from\\nusers who have turned on the Location\\nHistory setting, which is off by default. People\\nwho have Location History turned on can\\nchoose to turn it off at any time from their\\nGoogle Account and can always delete\\nLocation History data directly from their\\nTimeline.\\n\\nThese reports are powered by the same\\nworld-class anonymization technology that\\nwe use in our products every day and that\\nkeep your activity data private and secure.\\nThese reports use differential privacy, which\\nadds artificial noise to our datasets enabling\\nhigh quality results without identifying any\\nindividual person. These privacy-preserving\\nprotections also ensure that the absolute\\nnumber of visits isn’t shared.\\n\\nTo get the latest report, visit\\ngoogle.com/covid19/mobility\\n\\nhttps://support.google.com/business/answer/6263531\\nhttps://support.google.com/accounts/answer/3118687\\nhttps://myaccount.google.com/activitycontrols\\nhttps://www.google.com/maps/timeline\\nhttps://www.youtube.com/watch?v=FfAdemDkLsc\\nhttps://google.com/covid19/mobility\\n\\n'"
            ]
          },
          "metadata": {
            "tags": []
          },
          "execution_count": 10
        }
      ]
    },
    {
      "cell_type": "code",
      "metadata": {
        "id": "FFre1nuOeBoj",
        "colab_type": "code",
        "colab": {}
      },
      "source": [
        "directory = '/content/drive/My Drive/1_Latihan/'\n",
        "df = pd.DataFrame(columns=['negara', 'Retail_recreation', 'grocery_pharmacy', 'park', 'transit_station', 'workplace', 'residential'])\n",
        "\n",
        "for f1 in os.listdir(directory):\n",
        "        print('On Progress'+ str(f1))\n",
        "        raw = parser.from_file(directory+str(f1))\n",
        "        text=raw['content']\n",
        "\n",
        "\n",
        "        import re\n",
        "\n",
        "        start = 'Report\\n\\n'\n",
        "        end = 'April'\n",
        "\n",
        "        negara = re.search('%s(.*)%s' % (start, end), text).group(1)\n",
        "        start0 = 'Retail & recreation\\n\\n'\n",
        "        end = '\\ncompared to baseline'\n",
        "        start1 = '\\n\\nGrocery & pharmacy\\n\\n'\n",
        "        start2= '\\n\\nParks\\n\\n'\n",
        "        start3 = '\\n\\n\\n\\nTransit stations\\n\\n'\n",
        "        start4 = '\\n\\nWorkplaces\\n\\n'\n",
        "        start5 = '\\n\\nResidential\\n\\n'\n",
        "        Retail_recreation = re.search('%s(.*)%s' % (start0, end), text).group(1)\n",
        "        grocery_pharmacy = re.search('%s(.*)%s' % (start1, end), text).group(1)\n",
        "        park = re.search('%s(.*)%s' % (start2, end), text).group(1)\n",
        "        transit_station = re.search('%s(.*)%s' % (start3, end), text).group(1)\n",
        "        workplace = re.search('%s(.*)%s' % (start4, end), text).group(1)\n",
        "        residential = re.search('%s(.*)%s' % (start4, end), text).group(1)\n",
        "        df = df.append({'negara':negara, 'Retail_recreation':Retail_recreation, 'grocery_pharmacy':grocery_pharmacy, 'park':park, 'transit_station':transit_station, 'workplace':workplace, 'residential':residential}, ignore_index=True)\n",
        "print(f2 + ' Done')\n",
        "    "
      ],
      "execution_count": 0,
      "outputs": []
    },
    {
      "cell_type": "code",
      "metadata": {
        "id": "NPPgW0K7iEYy",
        "colab_type": "code",
        "outputId": "cb8cd204-9359-4bae-be9b-9d262e43037f",
        "colab": {
          "base_uri": "https://localhost:8080/",
          "height": 419
        }
      },
      "source": [
        "df"
      ],
      "execution_count": 0,
      "outputs": [
        {
          "output_type": "execute_result",
          "data": {
            "text/html": [
              "<div>\n",
              "<style scoped>\n",
              "    .dataframe tbody tr th:only-of-type {\n",
              "        vertical-align: middle;\n",
              "    }\n",
              "\n",
              "    .dataframe tbody tr th {\n",
              "        vertical-align: top;\n",
              "    }\n",
              "\n",
              "    .dataframe thead th {\n",
              "        text-align: right;\n",
              "    }\n",
              "</style>\n",
              "<table border=\"1\" class=\"dataframe\">\n",
              "  <thead>\n",
              "    <tr style=\"text-align: right;\">\n",
              "      <th></th>\n",
              "      <th>negara</th>\n",
              "      <th>Retail_recreation</th>\n",
              "      <th>grocery_pharmacy</th>\n",
              "      <th>park</th>\n",
              "      <th>transit_station</th>\n",
              "      <th>workplace</th>\n",
              "      <th>residential</th>\n",
              "    </tr>\n",
              "  </thead>\n",
              "  <tbody>\n",
              "    <tr>\n",
              "      <th>0</th>\n",
              "      <td>Afghanistan</td>\n",
              "      <td>-45%</td>\n",
              "      <td>-22%</td>\n",
              "      <td>-13%</td>\n",
              "      <td>-36%</td>\n",
              "      <td>-38%</td>\n",
              "      <td>-38%</td>\n",
              "    </tr>\n",
              "    <tr>\n",
              "      <th>1</th>\n",
              "      <td>Angola</td>\n",
              "      <td>-62%</td>\n",
              "      <td>-37%</td>\n",
              "      <td>-48%</td>\n",
              "      <td>-63%</td>\n",
              "      <td>-17%</td>\n",
              "      <td>-17%</td>\n",
              "    </tr>\n",
              "    <tr>\n",
              "      <th>2</th>\n",
              "      <td>Antigua and Barbuda</td>\n",
              "      <td>-78%</td>\n",
              "      <td>-55%</td>\n",
              "      <td>-65%</td>\n",
              "      <td>-83%</td>\n",
              "      <td>-66%</td>\n",
              "      <td>-66%</td>\n",
              "    </tr>\n",
              "    <tr>\n",
              "      <th>3</th>\n",
              "      <td>Argentina</td>\n",
              "      <td>-83%</td>\n",
              "      <td>-54%</td>\n",
              "      <td>-87%</td>\n",
              "      <td>-76%</td>\n",
              "      <td>-52%</td>\n",
              "      <td>-52%</td>\n",
              "    </tr>\n",
              "    <tr>\n",
              "      <th>4</th>\n",
              "      <td>Aruba</td>\n",
              "      <td>-76%</td>\n",
              "      <td>-50%</td>\n",
              "      <td>-51%</td>\n",
              "      <td>-77%</td>\n",
              "      <td>-64%</td>\n",
              "      <td>-64%</td>\n",
              "    </tr>\n",
              "    <tr>\n",
              "      <th>...</th>\n",
              "      <td>...</td>\n",
              "      <td>...</td>\n",
              "      <td>...</td>\n",
              "      <td>...</td>\n",
              "      <td>...</td>\n",
              "      <td>...</td>\n",
              "      <td>...</td>\n",
              "    </tr>\n",
              "    <tr>\n",
              "      <th>173</th>\n",
              "      <td>Uruguay</td>\n",
              "      <td>-71%</td>\n",
              "      <td>-36%</td>\n",
              "      <td>-79%</td>\n",
              "      <td>-68%</td>\n",
              "      <td>-35%</td>\n",
              "      <td>-35%</td>\n",
              "    </tr>\n",
              "    <tr>\n",
              "      <th>174</th>\n",
              "      <td>Venezuela</td>\n",
              "      <td>-65%</td>\n",
              "      <td>-48%</td>\n",
              "      <td>-58%</td>\n",
              "      <td>-65%</td>\n",
              "      <td>-29%</td>\n",
              "      <td>-29%</td>\n",
              "    </tr>\n",
              "    <tr>\n",
              "      <th>175</th>\n",
              "      <td>Vietnam</td>\n",
              "      <td>-67%</td>\n",
              "      <td>-44%</td>\n",
              "      <td>-47%</td>\n",
              "      <td>-67%</td>\n",
              "      <td>-32%</td>\n",
              "      <td>-32%</td>\n",
              "    </tr>\n",
              "    <tr>\n",
              "      <th>176</th>\n",
              "      <td>Yemen</td>\n",
              "      <td>-5%</td>\n",
              "      <td>+2%</td>\n",
              "      <td>-6%</td>\n",
              "      <td>-12%</td>\n",
              "      <td>-7%</td>\n",
              "      <td>-7%</td>\n",
              "    </tr>\n",
              "    <tr>\n",
              "      <th>177</th>\n",
              "      <td>Zambia</td>\n",
              "      <td>-24%</td>\n",
              "      <td>-12%</td>\n",
              "      <td>-6%</td>\n",
              "      <td>-28%</td>\n",
              "      <td>-1%</td>\n",
              "      <td>-1%</td>\n",
              "    </tr>\n",
              "  </tbody>\n",
              "</table>\n",
              "<p>178 rows × 7 columns</p>\n",
              "</div>"
            ],
            "text/plain": [
              "                   negara Retail_recreation  ... workplace residential\n",
              "0            Afghanistan               -45%  ...      -38%        -38%\n",
              "1                 Angola               -62%  ...      -17%        -17%\n",
              "2    Antigua and Barbuda               -78%  ...      -66%        -66%\n",
              "3              Argentina               -83%  ...      -52%        -52%\n",
              "4                  Aruba               -76%  ...      -64%        -64%\n",
              "..                    ...               ...  ...       ...         ...\n",
              "173              Uruguay               -71%  ...      -35%        -35%\n",
              "174            Venezuela               -65%  ...      -29%        -29%\n",
              "175              Vietnam               -67%  ...      -32%        -32%\n",
              "176                Yemen                -5%  ...       -7%         -7%\n",
              "177               Zambia               -24%  ...       -1%         -1%\n",
              "\n",
              "[178 rows x 7 columns]"
            ]
          },
          "metadata": {
            "tags": []
          },
          "execution_count": 16
        }
      ]
    },
    {
      "cell_type": "code",
      "metadata": {
        "id": "QFtfz2nLgHDE",
        "colab_type": "code",
        "colab": {}
      },
      "source": [
        "from google.colab import files\n",
        "\n",
        "df.to_csv('mobility.csv')\n",
        "files.download('mobility.csv')\n"
      ],
      "execution_count": 0,
      "outputs": []
    },
    {
      "cell_type": "markdown",
      "metadata": {
        "id": "Ih3MOPcPyh7o",
        "colab_type": "text"
      },
      "source": [
        ""
      ]
    }
  ]
}